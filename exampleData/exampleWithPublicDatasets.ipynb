{
 "cells": [
  {
   "cell_type": "code",
   "execution_count": 1,
   "metadata": {},
   "outputs": [],
   "source": [
    "from fastdtw import fastdtw\n",
    "from dtaidistance import dtw, dtw_ndim\n",
    "\n",
    "import time\n",
    "\n",
    "from dtwParallel import dtw_functions\n",
    "\n",
    "\n",
    "from scipy.spatial import distance\n",
    "import numpy as np\n",
    "\n",
    "import matplotlib.pyplot as plt"
   ]
  },
  {
   "cell_type": "markdown",
   "metadata": {},
   "source": [
    "## Mi librería"
   ]
  },
  {
   "cell_type": "code",
   "execution_count": 2,
   "metadata": {},
   "outputs": [],
   "source": [
    "class Input:\n",
    "    def __init__(self):\n",
    "        self.check_errors = False \n",
    "        self.type_dtw = \"d\"\n",
    "        self.MTS = True\n",
    "        self.n_threads = -1\n",
    "        self.distance = distance.euclidean\n",
    "        self.visualization = False\n",
    "        self.output_file = False\n",
    "        self.DTW_to_kernel = False\n",
    "        self.sigma = 1"
   ]
  },
  {
   "cell_type": "code",
   "execution_count": null,
   "metadata": {
    "scrolled": true
   },
   "outputs": [
    {
     "name": "stdout",
     "output_type": "stream",
     "text": [
      "(505, 90, 5)\n",
      "(505, 90, 5)\n",
      "1\n",
      "j:  0\n",
      "j:  1\n",
      "j:  2\n",
      "j:  3\n",
      "j:  4\n",
      "j:  5\n",
      "j:  6\n"
     ]
    }
   ],
   "source": [
    "# PAQUETE DESARROLLADO: DTW DEPENDIENTE\n",
    "\n",
    "# x = np.load('../../Investigacion_AMR-HUF/Experimentos_Paper_TFM/df_to_load/DataToPaperAndTFM_Mod1/Subconjuntos_3D/S1/X_train_tensor.npy')\n",
    "# y = np.load('../../Investigacion_AMR-HUF/Experimentos_Paper_TFM/df_to_load/DataToPaperAndTFM_Mod1/Subconjuntos_3D/S1/X_test_tensor.npy')\n",
    "x = np.load('./X_data.npy', allow_pickle=True)\n",
    "y = x.copy()\n",
    "\n",
    "print(x.shape)\n",
    "print(y.shape)\n",
    "\n",
    "number = 2**7\n",
    "n_threads = [2**n for n in range(number) if 2**n < number]\n",
    "n_threads.append(-1)\n",
    "\n",
    "# Hacer 30 veces y quedarme con la media o mediana del tiempo.\n",
    "dicc = {}\n",
    "for i in range(len(n_threads)):\n",
    "    times_1 = []\n",
    "    print(n_threads[i])\n",
    "    for j in range(30):\n",
    "        print(\"j: \", j)\n",
    "        input_obj = Input()\n",
    "        input_obj.n_threads = n_threads[i]\n",
    "\n",
    "        inicio = time.time()\n",
    "\n",
    "        _ = dtw_functions.dtw_tensor_3d(x, y, input_obj)\n",
    "\n",
    "        fin = time.time()\n",
    "\n",
    "        times_1.append(fin-inicio)\n",
    "    #print(fin-inicio)\n",
    "    dicc[i] = times_1\n",
    "\n",
    "# PAQUETE DESARROLLADO: DTW INDEPENDIENTE\n",
    "# Ficheros de 2.4 MB\n",
    "# x = np.load('X_train_tensor.npy')\n",
    "# y = np.load('X_train_tensor.npy')\n",
    "# # Dimensiones\n",
    "# print(\"Dimensiones: \", x.shape)\n",
    "\n",
    "# inicio = time.time()\n",
    "# out2_indep = dtw_functions.dtw_tensor_3d(x,y, \"i\")\n",
    "\n",
    "# fin = time.time()\n",
    "# print(fin-inicio)"
   ]
  },
  {
   "cell_type": "code",
   "execution_count": null,
   "metadata": {},
   "outputs": [],
   "source": [
    "values = []\n",
    "keys = list(dicc.keys())\n",
    "for i in range(len(keys)):\n",
    "    values.append(np.mean(dicc[keys[i]]))\n",
    "    print(np.mean(dicc[keys[i]]))\n",
    "    \n",
    "\n",
    "fig,axis = plt.subplots(1,1,figsize=(8,6))\n",
    "\n",
    "axis.plot(keys,values,'bo--',linewidth=2,alpha=1)\n",
    "\n",
    "plt.xticks(keys, n_threads, fontsize=20)\n",
    "plt.yticks(fontsize=20)\n",
    "plt.show()"
   ]
  },
  {
   "cell_type": "code",
   "execution_count": null,
   "metadata": {},
   "outputs": [],
   "source": []
  },
  {
   "cell_type": "code",
   "execution_count": null,
   "metadata": {},
   "outputs": [],
   "source": []
  },
  {
   "cell_type": "code",
   "execution_count": null,
   "metadata": {},
   "outputs": [],
   "source": []
  },
  {
   "cell_type": "code",
   "execution_count": null,
   "metadata": {
    "scrolled": true
   },
   "outputs": [],
   "source": [
    "# DTW DEPENDIENTE\n",
    "# Ficheros de 2.4 MB\n",
    "x = np.load('../../Investigacion_AMR-HUF/Experimentos_Paper_TFM/df_to_load/DataToPaperAndTFM_Mod1/Subconjuntos_3D/S1/X_train_tensor.npy')\n",
    "y = np.load('../../Investigacion_AMR-HUF/Experimentos_Paper_TFM/df_to_load/DataToPaperAndTFM_Mod1/Subconjuntos_3D/S1/X_test_tensor.npy')\n",
    "\n",
    "\n",
    "# Dimensiones\n",
    "print(\"Dimensiones: \", x.shape)\n",
    "\n",
    "time_2 = []\n",
    "\n",
    "for j in range(30):\n",
    "    dtw_matrix_dep = np.zeros((len(x), len(x)))\n",
    "\n",
    "    inicio = time.time()\n",
    "    \n",
    "    for i in range(len(x)):\n",
    "        for j in range(len(x)):\n",
    "            pat1 = x[i]\n",
    "            pat2 = x[j]\n",
    "            dtw_distance = dtw_ndim.distance(pat1, pat2)\n",
    "            dtw_matrix_dep[i,j] = dtw_distance\n",
    "\n",
    "    fin = time.time()\n",
    "    time_2.append(fin-inicio)\n",
    "\n",
    "    #print(fin-inicio)\n",
    "\n",
    "\n",
    "# DTW INDEPENDIENTE\n",
    "# DTW DEPENDIENTE\n",
    "# Ficheros de 2.4 MB\n",
    "# x = np.load('X_train_tensor.npy')\n",
    "# y = np.load('X_train_tensor.npy')\n",
    "# # Dimensiones\n",
    "# print(\"Dimensiones: \", x.shape)\n",
    "\n",
    "# inicio = time.time()\n",
    "\n",
    "# dtw_matrix_indep = np.zeros((len(x), len(x)))\n",
    "# for i in range(len(x)):\n",
    "#     for j in range(len(x)):\n",
    "#         pat1 = x[i]\n",
    "#         pat2 = x[j]\n",
    "#         dtw_i = 0\n",
    "#         for dim in range(pat1.shape[1]): \n",
    "#             dtw_i += dtw.distance(pat1[:, dim], pat2[:,dim])\n",
    "#         dtw_matrix_indep[i,j] = dtw_i\n",
    "        \n",
    "# fin = time.time()\n",
    "# print(fin-inicio)"
   ]
  },
  {
   "cell_type": "code",
   "execution_count": null,
   "metadata": {},
   "outputs": [],
   "source": [
    "np.mean(time_2)"
   ]
  },
  {
   "cell_type": "code",
   "execution_count": null,
   "metadata": {},
   "outputs": [],
   "source": [
    "# NO TIENE POSIBILIDAD DE CALCULO PARA DTW INDEPENDIENTE, POR TANTO, \n",
    "# SOLO SE DISPONE DEL CALCULO PARA DTW DEPENDIENTE\n",
    "\n",
    "# Ficheros de 2.4 MB\n",
    "x = np.load('../../Investigacion_AMR-HUF/Experimentos_Paper_TFM/df_to_load/DataToPaperAndTFM_Mod1/Subconjuntos_3D/S1/X_train_tensor.npy')\n",
    "y = np.load('../../Investigacion_AMR-HUF/Experimentos_Paper_TFM/df_to_load/DataToPaperAndTFM_Mod1/Subconjuntos_3D/S1/X_test_tensor.npy')\n",
    "\n",
    "\n",
    "# Dimensiones\n",
    "print(\"Dimensiones: \", x.shape)\n",
    "\n",
    "inicio = time.time()\n",
    "\n",
    "dtw_matrix = np.zeros((len(x), len(x)))\n",
    "for i in range(len(x)):\n",
    "    for j in range(len(x)):\n",
    "        pat1 = x[i]\n",
    "        pat2 = x[j]\n",
    "        dtw_distance, _ = fastdtw(pat1, pat2)\n",
    "        dtw_matrix[i,j] = dtw_distance\n",
    "        \n",
    "fin = time.time()\n",
    "print(fin-inicio)"
   ]
  },
  {
   "cell_type": "code",
   "execution_count": null,
   "metadata": {},
   "outputs": [],
   "source": []
  }
 ],
 "metadata": {
  "kernelspec": {
   "display_name": "Python 3 (ipykernel)",
   "language": "python",
   "name": "python3"
  },
  "language_info": {
   "codemirror_mode": {
    "name": "ipython",
    "version": 3
   },
   "file_extension": ".py",
   "mimetype": "text/x-python",
   "name": "python",
   "nbconvert_exporter": "python",
   "pygments_lexer": "ipython3",
   "version": "3.8.8"
  }
 },
 "nbformat": 4,
 "nbformat_minor": 4
}
