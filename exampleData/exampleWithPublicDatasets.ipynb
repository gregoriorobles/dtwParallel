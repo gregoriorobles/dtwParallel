{
 "cells": [
  {
   "cell_type": "code",
   "execution_count": 1,
   "metadata": {},
   "outputs": [
    {
     "name": "stderr",
     "output_type": "stream",
     "text": [
      "Warning: loading library to link with numpy returned an error\n",
      "numpy.ndarray size changed, may indicate binary incompatibility. Expected 96 from C header, got 88 from PyObject\n"
     ]
    }
   ],
   "source": [
    "from fastdtw import fastdtw\n",
    "from dtaidistance import dtw, dtw_ndim\n",
    "\n",
    "import time\n",
    "\n",
    "from dtwParallel import dtw_functions\n",
    "\n",
    "\n",
    "from scipy.spatial import distance\n",
    "import numpy as np"
   ]
  },
  {
   "cell_type": "markdown",
   "metadata": {},
   "source": [
    "## Mi librería"
   ]
  },
  {
   "cell_type": "code",
   "execution_count": 2,
   "metadata": {},
   "outputs": [],
   "source": [
    "class Input:\n",
    "    def __init__(self):\n",
    "        self.check_errors = False \n",
    "        self.type_dtw = \"d\"\n",
    "        self.MTS = True\n",
    "        self.n_threads = -1\n",
    "        self.distance = distance.euclidean\n",
    "        self.visualization = False\n",
    "        self.output_file = False\n",
    "        self.DTW_to_kernel = False\n",
    "        self.sigma = 1"
   ]
  },
  {
   "cell_type": "code",
   "execution_count": null,
   "metadata": {
    "scrolled": true
   },
   "outputs": [
    {
     "name": "stdout",
     "output_type": "stream",
     "text": [
      "1\n",
      "j:  0\n",
      "j:  1\n",
      "j:  2\n",
      "j:  3\n",
      "j:  4\n",
      "j:  5\n",
      "j:  6\n",
      "j:  7\n",
      "j:  8\n",
      "j:  9\n",
      "j:  10\n",
      "j:  11\n",
      "j:  12\n",
      "j:  13\n",
      "j:  14\n",
      "j:  15\n",
      "j:  16\n",
      "j:  17\n",
      "j:  18\n",
      "j:  19\n",
      "j:  20\n",
      "j:  21\n",
      "j:  22\n",
      "j:  23\n",
      "j:  24\n",
      "j:  25\n",
      "j:  26\n",
      "j:  27\n",
      "j:  28\n",
      "j:  29\n",
      "2\n",
      "j:  0\n",
      "j:  1\n",
      "j:  2\n",
      "j:  3\n",
      "j:  4\n",
      "j:  5\n",
      "j:  6\n",
      "j:  7\n",
      "j:  8\n",
      "j:  9\n",
      "j:  10\n",
      "j:  11\n",
      "j:  12\n",
      "j:  13\n",
      "j:  14\n",
      "j:  15\n",
      "j:  16\n",
      "j:  17\n",
      "j:  18\n",
      "j:  19\n",
      "j:  20\n",
      "j:  21\n",
      "j:  22\n",
      "j:  23\n",
      "j:  24\n",
      "j:  25\n",
      "j:  26\n"
     ]
    }
   ],
   "source": [
    "# PAQUETE DESARROLLADO: DTW DEPENDIENTE\n",
    "# Ficheros de 2.4 MB\n",
    "x = np.load('../../doctorado/Investigacion_AMR-HUF/Experimentos_Paper_TFM/df_to_load/DataToPaperAndTFM_Mod1/Subconjuntos_3D/S1/X_train_tensor.npy')\n",
    "y = np.load('../../doctorado/Investigacion_AMR-HUF/Experimentos_Paper_TFM/df_to_load/DataToPaperAndTFM_Mod1/Subconjuntos_3D/S1/X_test_tensor.npy')\n",
    "\n",
    "\n",
    "\n",
    "number = 2**15\n",
    "n_threads = [2**n for n in range(number) if 2**n < number]\n",
    "\n",
    "# Tareas para el lunes:\n",
    "# - Escribir paper\n",
    "# - Revisar esto de la ejecución. Con 30 hilos.\n",
    "# - Instalarlo en PyPi V0 (producción)\n",
    "# - \n",
    "\n",
    "# Hacer 30 veces y quedarme con la media o mediana del tiempo.\n",
    "dicc = {}\n",
    "for i in range(len(n_threads)):\n",
    "    times_1 = []\n",
    "    print(n_threads[i])\n",
    "    for j in range(30):\n",
    "        print(\"j: \", j)\n",
    "        input_obj = Input()\n",
    "        input_obj.n_threads = n_threads[i]\n",
    "\n",
    "        inicio = time.time()\n",
    "\n",
    "        _ = dtw_functions.dtw_tensor_3d(x, y, input_obj)\n",
    "\n",
    "        fin = time.time()\n",
    "\n",
    "        times_1.append(fin-inicio)\n",
    "    #print(fin-inicio)\n",
    "    dicc[i] = times_1\n",
    "\n",
    "# PAQUETE DESARROLLADO: DTW INDEPENDIENTE\n",
    "# Ficheros de 2.4 MB\n",
    "# x = np.load('X_train_tensor.npy')\n",
    "# y = np.load('X_train_tensor.npy')\n",
    "# # Dimensiones\n",
    "# print(\"Dimensiones: \", x.shape)\n",
    "\n",
    "# inicio = time.time()\n",
    "# out2_indep = dtw_functions.dtw_tensor_3d(x,y, \"i\")\n",
    "\n",
    "# fin = time.time()\n",
    "# print(fin-inicio)"
   ]
  },
  {
   "cell_type": "code",
   "execution_count": 8,
   "metadata": {
    "scrolled": true
   },
   "outputs": [
    {
     "name": "stdout",
     "output_type": "stream",
     "text": [
      "Dimensiones:  (842, 7, 50)\n",
      "213.13722729682922\n"
     ]
    }
   ],
   "source": [
    "# DTW DEPENDIENTE\n",
    "# Ficheros de 2.4 MB\n",
    "x = np.load('../../doctorado/Investigacion_AMR-HUF/Experimentos_Paper_TFM/df_to_load/DataToPaperAndTFM_Mod1/Subconjuntos_3D/S1/X_train_tensor.npy')\n",
    "y = np.load('../..//doctorado/Investigacion_AMR-HUF/Experimentos_Paper_TFM/df_to_load/DataToPaperAndTFM_Mod1/Subconjuntos_3D/S1/X_test_tensor.npy')\n",
    "\n",
    "# Dimensiones\n",
    "print(\"Dimensiones: \", x.shape)\n",
    "\n",
    "inicio = time.time()\n",
    "\n",
    "dtw_matrix_dep = np.zeros((len(x), len(x)))\n",
    "for i in range(len(x)):\n",
    "    for j in range(len(x)):\n",
    "        pat1 = x[i]\n",
    "        pat2 = x[j]\n",
    "        dtw_distance = dtw_ndim.distance(pat1, pat2)\n",
    "        dtw_matrix_dep[i,j] = dtw_distance\n",
    "        \n",
    "fin = time.time()\n",
    "print(fin-inicio)\n",
    "\n",
    "\n",
    "# DTW INDEPENDIENTE\n",
    "# DTW DEPENDIENTE\n",
    "# Ficheros de 2.4 MB\n",
    "# x = np.load('X_train_tensor.npy')\n",
    "# y = np.load('X_train_tensor.npy')\n",
    "# # Dimensiones\n",
    "# print(\"Dimensiones: \", x.shape)\n",
    "\n",
    "# inicio = time.time()\n",
    "\n",
    "# dtw_matrix_indep = np.zeros((len(x), len(x)))\n",
    "# for i in range(len(x)):\n",
    "#     for j in range(len(x)):\n",
    "#         pat1 = x[i]\n",
    "#         pat2 = x[j]\n",
    "#         dtw_i = 0\n",
    "#         for dim in range(pat1.shape[1]): \n",
    "#             dtw_i += dtw.distance(pat1[:, dim], pat2[:,dim])\n",
    "#         dtw_matrix_indep[i,j] = dtw_i\n",
    "        \n",
    "# fin = time.time()\n",
    "# print(fin-inicio)"
   ]
  },
  {
   "cell_type": "code",
   "execution_count": 9,
   "metadata": {},
   "outputs": [
    {
     "ename": "FileNotFoundError",
     "evalue": "[Errno 2] No such file or directory: 'X_train_tensor.npy'",
     "output_type": "error",
     "traceback": [
      "\u001b[0;31m---------------------------------------------------------------------------\u001b[0m",
      "\u001b[0;31mFileNotFoundError\u001b[0m                         Traceback (most recent call last)",
      "Input \u001b[0;32mIn [9]\u001b[0m, in \u001b[0;36m<cell line: 5>\u001b[0;34m()\u001b[0m\n\u001b[1;32m      1\u001b[0m \u001b[38;5;66;03m# NO TIENE POSIBILIDAD DE CALCULO PARA DTW INDEPENDIENTE, POR TANTO, \u001b[39;00m\n\u001b[1;32m      2\u001b[0m \u001b[38;5;66;03m# SOLO SE DISPONE DEL CALCULO PARA DTW DEPENDIENTE\u001b[39;00m\n\u001b[1;32m      3\u001b[0m \n\u001b[1;32m      4\u001b[0m \u001b[38;5;66;03m# Ficheros de 2.4 MB\u001b[39;00m\n\u001b[0;32m----> 5\u001b[0m x \u001b[38;5;241m=\u001b[39m \u001b[43mnp\u001b[49m\u001b[38;5;241;43m.\u001b[39;49m\u001b[43mload\u001b[49m\u001b[43m(\u001b[49m\u001b[38;5;124;43m'\u001b[39;49m\u001b[38;5;124;43mX_train_tensor.npy\u001b[39;49m\u001b[38;5;124;43m'\u001b[39;49m\u001b[43m)\u001b[49m\n\u001b[1;32m      6\u001b[0m y \u001b[38;5;241m=\u001b[39m np\u001b[38;5;241m.\u001b[39mload(\u001b[38;5;124m'\u001b[39m\u001b[38;5;124mX_train_tensor.npy\u001b[39m\u001b[38;5;124m'\u001b[39m)\n\u001b[1;32m      7\u001b[0m \u001b[38;5;66;03m# Dimensiones\u001b[39;00m\n",
      "File \u001b[0;32m~/anaconda3/lib/python3.9/site-packages/numpy/lib/npyio.py:417\u001b[0m, in \u001b[0;36mload\u001b[0;34m(file, mmap_mode, allow_pickle, fix_imports, encoding)\u001b[0m\n\u001b[1;32m    415\u001b[0m     own_fid \u001b[38;5;241m=\u001b[39m \u001b[38;5;28;01mFalse\u001b[39;00m\n\u001b[1;32m    416\u001b[0m \u001b[38;5;28;01melse\u001b[39;00m:\n\u001b[0;32m--> 417\u001b[0m     fid \u001b[38;5;241m=\u001b[39m stack\u001b[38;5;241m.\u001b[39menter_context(\u001b[38;5;28;43mopen\u001b[39;49m\u001b[43m(\u001b[49m\u001b[43mos_fspath\u001b[49m\u001b[43m(\u001b[49m\u001b[43mfile\u001b[49m\u001b[43m)\u001b[49m\u001b[43m,\u001b[49m\u001b[43m \u001b[49m\u001b[38;5;124;43m\"\u001b[39;49m\u001b[38;5;124;43mrb\u001b[39;49m\u001b[38;5;124;43m\"\u001b[39;49m\u001b[43m)\u001b[49m)\n\u001b[1;32m    418\u001b[0m     own_fid \u001b[38;5;241m=\u001b[39m \u001b[38;5;28;01mTrue\u001b[39;00m\n\u001b[1;32m    420\u001b[0m \u001b[38;5;66;03m# Code to distinguish from NumPy binary files and pickles.\u001b[39;00m\n",
      "\u001b[0;31mFileNotFoundError\u001b[0m: [Errno 2] No such file or directory: 'X_train_tensor.npy'"
     ]
    }
   ],
   "source": [
    "# NO TIENE POSIBILIDAD DE CALCULO PARA DTW INDEPENDIENTE, POR TANTO, \n",
    "# SOLO SE DISPONE DEL CALCULO PARA DTW DEPENDIENTE\n",
    "\n",
    "# Ficheros de 2.4 MB\n",
    "x = np.load('X_train_tensor.npy')\n",
    "y = np.load('X_train_tensor.npy')\n",
    "# Dimensiones\n",
    "print(\"Dimensiones: \", x.shape)\n",
    "\n",
    "inicio = time.time()\n",
    "\n",
    "dtw_matrix = np.zeros((len(x), len(x)))\n",
    "for i in range(len(x)):\n",
    "    for j in range(len(x)):\n",
    "        pat1 = x[i]\n",
    "        pat2 = x[j]\n",
    "        dtw_distance, _ = fastdtw(pat1, pat2)\n",
    "        dtw_matrix[i,j] = dtw_distance\n",
    "        \n",
    "fin = time.time()\n",
    "print(fin-inicio)"
   ]
  },
  {
   "cell_type": "code",
   "execution_count": null,
   "metadata": {},
   "outputs": [],
   "source": []
  }
 ],
 "metadata": {
  "kernelspec": {
   "display_name": "Python 3 (ipykernel)",
   "language": "python",
   "name": "python3"
  },
  "language_info": {
   "codemirror_mode": {
    "name": "ipython",
    "version": 3
   },
   "file_extension": ".py",
   "mimetype": "text/x-python",
   "name": "python",
   "nbconvert_exporter": "python",
   "pygments_lexer": "ipython3",
   "version": "3.9.12"
  }
 },
 "nbformat": 4,
 "nbformat_minor": 4
}
