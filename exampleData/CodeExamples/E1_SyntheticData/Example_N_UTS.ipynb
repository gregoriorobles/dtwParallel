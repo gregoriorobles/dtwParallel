{
 "cells": [
  {
   "cell_type": "code",
   "execution_count": 1,
   "id": "23a9980b",
   "metadata": {},
   "outputs": [],
   "source": [
    "import pandas as pd"
   ]
  },
  {
   "cell_type": "code",
   "execution_count": 2,
   "id": "18283ed4",
   "metadata": {},
   "outputs": [],
   "source": [
    "A = [[1, 4, 5, 12], \n",
    "    [-5, 8, 9, 0],\n",
    "    [-6, 7, 11, 19]]\n",
    "\n",
    "B = [[1, 0, 5, 12], \n",
    "    [5, 1, 9, 0],\n",
    "    [6, 7, 1, 10]]\n",
    "\n",
    "df = pd.DataFrame(A)\n",
    "df.to_csv('../../Data/E1_SyntheticData/data_A.csv', index=False)\n",
    "\n",
    "df = pd.DataFrame(B)\n",
    "df.to_csv('../../Data/E1_SyntheticData/data_B.csv', index=False)"
   ]
  },
  {
   "cell_type": "markdown",
   "id": "66de3619",
   "metadata": {},
   "source": [
    "## E7.1"
   ]
  },
  {
   "cell_type": "code",
   "execution_count": 3,
   "id": "9ad7baa2",
   "metadata": {},
   "outputs": [
    {
     "data": {
      "text/plain": [
       "array([[ 2., 23., 14.],\n",
       "       [29., 17., 25.],\n",
       "       [23., 38., 28.]])"
      ]
     },
     "execution_count": 3,
     "metadata": {},
     "output_type": "execute_result"
    }
   ],
   "source": [
    "from dtwParallel import dtw_functions\n",
    "\n",
    "data_A = pd.read_csv(\"../../Data/E1_SyntheticData/data_A.csv\")\n",
    "data_B = pd.read_csv(\"../../Data/E1_SyntheticData/data_B.csv\")\n",
    "\n",
    "dtw_distance = dtw_functions.dtw(data_A, data_B, n_threads=3)\n",
    "dtw_distance"
   ]
  },
  {
   "cell_type": "markdown",
   "id": "d8d824de",
   "metadata": {},
   "source": [
    "## E7.2"
   ]
  },
  {
   "cell_type": "code",
   "execution_count": 4,
   "id": "9ce8e87c",
   "metadata": {},
   "outputs": [
    {
     "data": {
      "text/plain": [
       "array([[ 0., 26., 20.],\n",
       "       [26.,  0., 23.],\n",
       "       [20., 23.,  0.]])"
      ]
     },
     "execution_count": 4,
     "metadata": {},
     "output_type": "execute_result"
    }
   ],
   "source": [
    "from dtwParallel import dtw_functions\n",
    "\n",
    "data_A = pd.read_csv(\"../../Data/E1_SyntheticData/data_A.csv\")\n",
    "\n",
    "dtw_distance = dtw_functions.dtw(data_A, n_threads=3)\n",
    "dtw_distance"
   ]
  },
  {
   "cell_type": "code",
   "execution_count": null,
   "id": "52ed67f0",
   "metadata": {},
   "outputs": [],
   "source": []
  }
 ],
 "metadata": {
  "kernelspec": {
   "display_name": "Python 3 (ipykernel)",
   "language": "python",
   "name": "python3"
  },
  "language_info": {
   "codemirror_mode": {
    "name": "ipython",
    "version": 3
   },
   "file_extension": ".py",
   "mimetype": "text/x-python",
   "name": "python",
   "nbconvert_exporter": "python",
   "pygments_lexer": "ipython3",
   "version": "3.8.0"
  }
 },
 "nbformat": 4,
 "nbformat_minor": 5
}
