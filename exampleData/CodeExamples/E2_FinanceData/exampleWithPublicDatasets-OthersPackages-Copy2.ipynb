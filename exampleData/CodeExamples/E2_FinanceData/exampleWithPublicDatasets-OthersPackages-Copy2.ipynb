{
 "cells": [
  {
   "cell_type": "code",
   "execution_count": 1,
   "metadata": {},
   "outputs": [],
   "source": [
    "# package 1\n",
    "from dtaidistance import dtw, dtw_ndim\n",
    "# package 2\n",
    "from fastdtw import fastdtw\n",
    "# package 4\n",
    "from dtw import dtw\n",
    "# package 5\n",
    "# from pydtw import dtw2d\n",
    "# package 6\n",
    "# from sdtw import SoftDTW\n",
    "# from sdtw.distance import SquaredEuclidean\n",
    "\n",
    "import time\n",
    "from scipy.spatial import distance\n",
    "import numpy as np"
   ]
  },
  {
   "cell_type": "code",
   "execution_count": 2,
   "metadata": {},
   "outputs": [],
   "source": [
    "number_of_repetitions = 30"
   ]
  },
  {
   "cell_type": "markdown",
   "metadata": {},
   "source": [
    "* The currently tested packages can only work with distances that do not allow the computation of data of different nature. For this reason, a public data set obtained from https://finance.yahoo.com/ has been used. All data are continuous."
   ]
  },
  {
   "cell_type": "markdown",
   "metadata": {},
   "source": [
    "# 1. dtaidistance. DTW dependent"
   ]
  },
  {
   "cell_type": "code",
   "execution_count": 3,
   "metadata": {},
   "outputs": [],
   "source": [
    "# x = np.load('./X_data_2.npy', allow_pickle=True)\n",
    "\n",
    "# print(x.shape)\n",
    "\n",
    "# time_dtaidistance_dep = []\n",
    "\n",
    "# for rep in range(number_of_repetitions):\n",
    "#     inicio = time.time()\n",
    "\n",
    "#     dtw_matrix_dep = np.zeros((len(x), len(x)))\n",
    "#     for i in range(len(x)):\n",
    "#         for j in range(len(x)):\n",
    "#             pat1 = x[i]\n",
    "#             pat2 = x[j]\n",
    "#             dtw_distance = dtw_ndim.distance(pat1, pat2)\n",
    "#             dtw_matrix_dep[i,j] = dtw_distance\n",
    "\n",
    "#     fin = time.time()\n",
    "#     time_dtaidistance_dep.append(fin-inicio)"
   ]
  },
  {
   "cell_type": "markdown",
   "metadata": {},
   "source": [
    "# 2. fastdtw. DTW dependent. There is no possibility to calculate independent DTW."
   ]
  },
  {
   "cell_type": "code",
   "execution_count": 4,
   "metadata": {},
   "outputs": [],
   "source": [
    "# x = np.load('./X_data_2.npy', allow_pickle=True)\n",
    "\n",
    "# print(x.shape)\n",
    "\n",
    "# time_fastdtw_dep = []\n",
    "\n",
    "# for rep in range(number_of_repetitions):\n",
    "    \n",
    "#     inicio = time.time()\n",
    "#     dtw_matrix = np.zeros((len(x), len(x)))\n",
    "#     for i in range(len(x)):\n",
    "#         for j in range(len(x)):\n",
    "#             pat1 = x[i]\n",
    "#             pat2 = x[j]\n",
    "#             dtw_distance, _ = fastdtw(pat1, pat2)\n",
    "#             dtw_matrix[i,j] = dtw_distance\n",
    "\n",
    "#     fin = time.time()\n",
    "#     time_fastdtw_dep.append(fin-inicio)"
   ]
  },
  {
   "cell_type": "markdown",
   "metadata": {},
   "source": [
    "# 3. dtw-python. No examples of use are available. Complex usage.\n"
   ]
  },
  {
   "cell_type": "markdown",
   "metadata": {},
   "source": [
    "# 4. dtw. DTW dependent. There is no possibility to calculate independent DTW."
   ]
  },
  {
   "cell_type": "code",
   "execution_count": 5,
   "metadata": {},
   "outputs": [
    {
     "name": "stdout",
     "output_type": "stream",
     "text": [
      "(505, 20, 5)\n"
     ]
    },
    {
     "ename": "KeyboardInterrupt",
     "evalue": "",
     "output_type": "error",
     "traceback": [
      "\u001b[0;31m---------------------------------------------------------------------------\u001b[0m",
      "\u001b[0;31mKeyboardInterrupt\u001b[0m                         Traceback (most recent call last)",
      "Input \u001b[0;32mIn [5]\u001b[0m, in \u001b[0;36m<cell line: 7>\u001b[0;34m()\u001b[0m\n\u001b[1;32m     13\u001b[0m         pat1 \u001b[38;5;241m=\u001b[39m x[i]\n\u001b[1;32m     14\u001b[0m         pat2 \u001b[38;5;241m=\u001b[39m x[j]\n\u001b[0;32m---> 15\u001b[0m         d, cost_matrix, acc_cost_matrix, path \u001b[38;5;241m=\u001b[39m \u001b[43mdtw\u001b[49m\u001b[43m(\u001b[49m\u001b[43mpat1\u001b[49m\u001b[43m,\u001b[49m\u001b[43m \u001b[49m\u001b[43mpat2\u001b[49m\u001b[43m,\u001b[49m\u001b[43m \u001b[49m\u001b[43mdist\u001b[49m\u001b[38;5;241;43m=\u001b[39;49m\u001b[43mdistance\u001b[49m\u001b[38;5;241;43m.\u001b[39;49m\u001b[43meuclidean\u001b[49m\u001b[43m)\u001b[49m\n\u001b[1;32m     16\u001b[0m         dtw_matrix[i,j] \u001b[38;5;241m=\u001b[39m d\n\u001b[1;32m     18\u001b[0m fin \u001b[38;5;241m=\u001b[39m time\u001b[38;5;241m.\u001b[39mtime()\n",
      "File \u001b[0;32m~/.local/lib/python3.8/site-packages/dtw/dtw.py:36\u001b[0m, in \u001b[0;36mdtw\u001b[0;34m(x, y, dist, warp, w, s)\u001b[0m\n\u001b[1;32m     34\u001b[0m     \u001b[38;5;28;01mfor\u001b[39;00m j \u001b[38;5;129;01min\u001b[39;00m \u001b[38;5;28mrange\u001b[39m(c):\n\u001b[1;32m     35\u001b[0m         \u001b[38;5;28;01mif\u001b[39;00m (isinf(w) \u001b[38;5;129;01mor\u001b[39;00m (\u001b[38;5;28mmax\u001b[39m(\u001b[38;5;241m0\u001b[39m, i \u001b[38;5;241m-\u001b[39m w) \u001b[38;5;241m<\u001b[39m\u001b[38;5;241m=\u001b[39m j \u001b[38;5;241m<\u001b[39m\u001b[38;5;241m=\u001b[39m \u001b[38;5;28mmin\u001b[39m(c, i \u001b[38;5;241m+\u001b[39m w))):\n\u001b[0;32m---> 36\u001b[0m             D1[i, j] \u001b[38;5;241m=\u001b[39m \u001b[43mdist\u001b[49m\u001b[43m(\u001b[49m\u001b[43mx\u001b[49m\u001b[43m[\u001b[49m\u001b[43mi\u001b[49m\u001b[43m]\u001b[49m\u001b[43m,\u001b[49m\u001b[43m \u001b[49m\u001b[43my\u001b[49m\u001b[43m[\u001b[49m\u001b[43mj\u001b[49m\u001b[43m]\u001b[49m\u001b[43m)\u001b[49m\n\u001b[1;32m     37\u001b[0m C \u001b[38;5;241m=\u001b[39m D1\u001b[38;5;241m.\u001b[39mcopy()\n\u001b[1;32m     38\u001b[0m jrange \u001b[38;5;241m=\u001b[39m \u001b[38;5;28mrange\u001b[39m(c)\n",
      "File \u001b[0;32m~/.local/lib/python3.8/site-packages/scipy/spatial/distance.py:528\u001b[0m, in \u001b[0;36meuclidean\u001b[0;34m(u, v, w)\u001b[0m\n\u001b[1;32m    492\u001b[0m \u001b[38;5;28;01mdef\u001b[39;00m \u001b[38;5;21meuclidean\u001b[39m(u, v, w\u001b[38;5;241m=\u001b[39m\u001b[38;5;28;01mNone\u001b[39;00m):\n\u001b[1;32m    493\u001b[0m     \u001b[38;5;124;03m\"\"\"\u001b[39;00m\n\u001b[1;32m    494\u001b[0m \u001b[38;5;124;03m    Computes the Euclidean distance between two 1-D arrays.\u001b[39;00m\n\u001b[1;32m    495\u001b[0m \n\u001b[0;32m   (...)\u001b[0m\n\u001b[1;32m    526\u001b[0m \n\u001b[1;32m    527\u001b[0m \u001b[38;5;124;03m    \"\"\"\u001b[39;00m\n\u001b[0;32m--> 528\u001b[0m     \u001b[38;5;28;01mreturn\u001b[39;00m \u001b[43mminkowski\u001b[49m\u001b[43m(\u001b[49m\u001b[43mu\u001b[49m\u001b[43m,\u001b[49m\u001b[43m \u001b[49m\u001b[43mv\u001b[49m\u001b[43m,\u001b[49m\u001b[43m \u001b[49m\u001b[43mp\u001b[49m\u001b[38;5;241;43m=\u001b[39;49m\u001b[38;5;241;43m2\u001b[39;49m\u001b[43m,\u001b[49m\u001b[43m \u001b[49m\u001b[43mw\u001b[49m\u001b[38;5;241;43m=\u001b[39;49m\u001b[43mw\u001b[49m\u001b[43m)\u001b[49m\n",
      "File \u001b[0;32m~/.local/lib/python3.8/site-packages/scipy/spatial/distance.py:488\u001b[0m, in \u001b[0;36mminkowski\u001b[0;34m(u, v, p, w)\u001b[0m\n\u001b[1;32m    486\u001b[0m         root_w \u001b[38;5;241m=\u001b[39m np\u001b[38;5;241m.\u001b[39mpower(w, \u001b[38;5;241m1\u001b[39m\u001b[38;5;241m/\u001b[39mp)\n\u001b[1;32m    487\u001b[0m     u_v \u001b[38;5;241m=\u001b[39m root_w \u001b[38;5;241m*\u001b[39m u_v\n\u001b[0;32m--> 488\u001b[0m dist \u001b[38;5;241m=\u001b[39m \u001b[43mnorm\u001b[49m\u001b[43m(\u001b[49m\u001b[43mu_v\u001b[49m\u001b[43m,\u001b[49m\u001b[43m \u001b[49m\u001b[38;5;28;43mord\u001b[39;49m\u001b[38;5;241;43m=\u001b[39;49m\u001b[43mp\u001b[49m\u001b[43m)\u001b[49m\n\u001b[1;32m    489\u001b[0m \u001b[38;5;28;01mreturn\u001b[39;00m dist\n",
      "File \u001b[0;32m~/.local/lib/python3.8/site-packages/scipy/linalg/_misc.py:177\u001b[0m, in \u001b[0;36mnorm\u001b[0;34m(a, ord, axis, keepdims, check_finite)\u001b[0m\n\u001b[1;32m    174\u001b[0m             \u001b[38;5;28;01mreturn\u001b[39;00m lange(\u001b[38;5;241m*\u001b[39mlange_args)\n\u001b[1;32m    176\u001b[0m \u001b[38;5;66;03m# fall back to numpy in every other case\u001b[39;00m\n\u001b[0;32m--> 177\u001b[0m \u001b[38;5;28;01mreturn\u001b[39;00m \u001b[43mnp\u001b[49m\u001b[38;5;241;43m.\u001b[39;49m\u001b[43mlinalg\u001b[49m\u001b[38;5;241;43m.\u001b[39;49m\u001b[43mnorm\u001b[49m\u001b[43m(\u001b[49m\u001b[43ma\u001b[49m\u001b[43m,\u001b[49m\u001b[43m \u001b[49m\u001b[38;5;28;43mord\u001b[39;49m\u001b[38;5;241;43m=\u001b[39;49m\u001b[38;5;28;43mord\u001b[39;49m\u001b[43m,\u001b[49m\u001b[43m \u001b[49m\u001b[43maxis\u001b[49m\u001b[38;5;241;43m=\u001b[39;49m\u001b[43maxis\u001b[49m\u001b[43m,\u001b[49m\u001b[43m \u001b[49m\u001b[43mkeepdims\u001b[49m\u001b[38;5;241;43m=\u001b[39;49m\u001b[43mkeepdims\u001b[49m\u001b[43m)\u001b[49m\n",
      "File \u001b[0;32m<__array_function__ internals>:180\u001b[0m, in \u001b[0;36mnorm\u001b[0;34m(*args, **kwargs)\u001b[0m\n",
      "File \u001b[0;32m~/.local/lib/python3.8/site-packages/numpy/linalg/linalg.py:2527\u001b[0m, in \u001b[0;36mnorm\u001b[0;34m(x, ord, axis, keepdims)\u001b[0m\n\u001b[1;32m   2525\u001b[0m \u001b[38;5;28;01melse\u001b[39;00m:\n\u001b[1;32m   2526\u001b[0m     sqnorm \u001b[38;5;241m=\u001b[39m x\u001b[38;5;241m.\u001b[39mdot(x)\n\u001b[0;32m-> 2527\u001b[0m ret \u001b[38;5;241m=\u001b[39m \u001b[43msqrt\u001b[49m\u001b[43m(\u001b[49m\u001b[43msqnorm\u001b[49m\u001b[43m)\u001b[49m\n\u001b[1;32m   2528\u001b[0m \u001b[38;5;28;01mif\u001b[39;00m keepdims:\n\u001b[1;32m   2529\u001b[0m     ret \u001b[38;5;241m=\u001b[39m ret\u001b[38;5;241m.\u001b[39mreshape(ndim\u001b[38;5;241m*\u001b[39m[\u001b[38;5;241m1\u001b[39m])\n",
      "\u001b[0;31mKeyboardInterrupt\u001b[0m: "
     ]
    }
   ],
   "source": [
    "x = np.load('../../Data/E2_FinanceData/FinanceData_20days.npy', allow_pickle=True)\n",
    "\n",
    "print(x.shape)\n",
    "\n",
    "time_dtw_dep = []\n",
    "\n",
    "for rep in range(number_of_repetitions):\n",
    "    \n",
    "    inicio = time.time()\n",
    "    dtw_matrix = np.zeros((len(x), len(x)))\n",
    "    for i in range(len(x)):\n",
    "        for j in range(len(x)):\n",
    "            pat1 = x[i]\n",
    "            pat2 = x[j]\n",
    "            d, cost_matrix, acc_cost_matrix, path = dtw(pat1, pat2, dist=distance.euclidean)\n",
    "            dtw_matrix[i,j] = d\n",
    "\n",
    "    fin = time.time()\n",
    "    time_dtw_dep.append(fin-inicio)\n",
    "    \n",
    "f = open(\"dtw_vf.txt\", \"a\")\n",
    "f.write(str(time_dtw_dep))\n",
    "f.close()"
   ]
  },
  {
   "cell_type": "markdown",
   "metadata": {},
   "source": [
    "# 5. pydtw. Does not work for windows. I can't install it even though it fulfills dependencies.\n"
   ]
  },
  {
   "cell_type": "markdown",
   "metadata": {},
   "source": [
    "# 6. soft-dtw. DTW dependent. There is no possibility to calculate independent DTW. I can't install it even though it fulfills dependencies.\n"
   ]
  },
  {
   "cell_type": "markdown",
   "metadata": {},
   "source": [
    "# 7. dtaidistance. DTW independiente\n"
   ]
  },
  {
   "cell_type": "code",
   "execution_count": null,
   "metadata": {},
   "outputs": [],
   "source": [
    "# x = np.load('./X_data_2.npy', allow_pickle=True)\n",
    "\n",
    "# print(x.shape)\n",
    "\n",
    "# time_fastdtw_indep = []\n",
    "\n",
    "# for rep in range(number_of_repetitions):\n",
    "\n",
    "#     inicio = time.time()\n",
    "\n",
    "#     dtw_matrix_indep = np.zeros((len(x), len(x)))\n",
    "#     for i in range(len(x)):\n",
    "#         for j in range(len(x)):\n",
    "#             pat1 = x[i]\n",
    "#             pat2 = x[j]\n",
    "#             dtw_i = 0\n",
    "#             for dim in range(pat1.shape[1]): \n",
    "#                 dtw_i += dtw.distance(pat1[:, dim], pat2[:,dim])\n",
    "#             dtw_matrix_indep[i,j] = dtw_i\n",
    "\n",
    "#     fin = time.time()\n",
    "#     time_fastdtw_indep.append(fin-inicio)"
   ]
  },
  {
   "cell_type": "code",
   "execution_count": null,
   "metadata": {},
   "outputs": [],
   "source": []
  },
  {
   "cell_type": "code",
   "execution_count": null,
   "metadata": {},
   "outputs": [],
   "source": []
  },
  {
   "cell_type": "code",
   "execution_count": null,
   "metadata": {},
   "outputs": [],
   "source": []
  }
 ],
 "metadata": {
  "kernelspec": {
   "display_name": "Python 3 (ipykernel)",
   "language": "python",
   "name": "python3"
  },
  "language_info": {
   "codemirror_mode": {
    "name": "ipython",
    "version": 3
   },
   "file_extension": ".py",
   "mimetype": "text/x-python",
   "name": "python",
   "nbconvert_exporter": "python",
   "pygments_lexer": "ipython3",
   "version": "3.8.10"
  }
 },
 "nbformat": 4,
 "nbformat_minor": 4
}
