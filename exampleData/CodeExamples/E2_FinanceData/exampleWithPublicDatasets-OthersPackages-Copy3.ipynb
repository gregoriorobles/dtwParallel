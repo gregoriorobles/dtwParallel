{
 "cells": [
  {
   "cell_type": "code",
   "execution_count": 1,
   "metadata": {},
   "outputs": [],
   "source": [
    "# package 1\n",
    "from dtaidistance import dtw, dtw_ndim\n",
    "# package 2\n",
    "from fastdtw import fastdtw\n",
    "# package 4\n",
    "from dtw import dtw\n",
    "# package 5\n",
    "# from pydtw import dtw2d\n",
    "# package 6\n",
    "# from sdtw import SoftDTW\n",
    "# from sdtw.distance import SquaredEuclidean\n",
    "\n",
    "import time\n",
    "from scipy.spatial import distance\n",
    "import numpy as np"
   ]
  },
  {
   "cell_type": "code",
   "execution_count": 2,
   "metadata": {},
   "outputs": [],
   "source": [
    "number_of_repetitions = 30"
   ]
  },
  {
   "cell_type": "markdown",
   "metadata": {},
   "source": [
    "* The currently tested packages can only work with distances that do not allow the computation of data of different nature. For this reason, a public data set obtained from https://finance.yahoo.com/ has been used. All data are continuous."
   ]
  },
  {
   "cell_type": "markdown",
   "metadata": {},
   "source": [
    "# 1. dtaidistance. DTW dependent"
   ]
  },
  {
   "cell_type": "code",
   "execution_count": 3,
   "metadata": {},
   "outputs": [],
   "source": [
    "# x = np.load('./X_data_2.npy', allow_pickle=True)\n",
    "\n",
    "# print(x.shape)\n",
    "\n",
    "# time_dtaidistance_dep = []\n",
    "\n",
    "# for rep in range(number_of_repetitions):\n",
    "#     inicio = time.time()\n",
    "\n",
    "#     dtw_matrix_dep = np.zeros((len(x), len(x)))\n",
    "#     for i in range(len(x)):\n",
    "#         for j in range(len(x)):\n",
    "#             pat1 = x[i]\n",
    "#             pat2 = x[j]\n",
    "#             dtw_distance = dtw_ndim.distance(pat1, pat2)\n",
    "#             dtw_matrix_dep[i,j] = dtw_distance\n",
    "\n",
    "#     fin = time.time()\n",
    "#     time_dtaidistance_dep.append(fin-inicio)"
   ]
  },
  {
   "cell_type": "markdown",
   "metadata": {},
   "source": [
    "# 2. fastdtw. DTW dependent. There is no possibility to calculate independent DTW."
   ]
  },
  {
   "cell_type": "code",
   "execution_count": 4,
   "metadata": {},
   "outputs": [],
   "source": [
    "# x = np.load('./X_data_2.npy', allow_pickle=True)\n",
    "\n",
    "# print(x.shape)\n",
    "\n",
    "# time_fastdtw_dep = []\n",
    "\n",
    "# for rep in range(number_of_repetitions):\n",
    "    \n",
    "#     inicio = time.time()\n",
    "#     dtw_matrix = np.zeros((len(x), len(x)))\n",
    "#     for i in range(len(x)):\n",
    "#         for j in range(len(x)):\n",
    "#             pat1 = x[i]\n",
    "#             pat2 = x[j]\n",
    "#             dtw_distance, _ = fastdtw(pat1, pat2)\n",
    "#             dtw_matrix[i,j] = dtw_distance\n",
    "\n",
    "#     fin = time.time()\n",
    "#     time_fastdtw_dep.append(fin-inicio)"
   ]
  },
  {
   "cell_type": "markdown",
   "metadata": {},
   "source": [
    "# 3. dtw-python. No examples of use are available. Complex usage.\n"
   ]
  },
  {
   "cell_type": "markdown",
   "metadata": {},
   "source": [
    "# 4. dtw. DTW dependent. There is no possibility to calculate independent DTW."
   ]
  },
  {
   "cell_type": "code",
   "execution_count": 5,
   "metadata": {},
   "outputs": [],
   "source": [
    "# x = np.load('./X_data_2.npy', allow_pickle=True)\n",
    "\n",
    "# print(x.shape)\n",
    "\n",
    "# time_dtw_dep = []\n",
    "\n",
    "# for rep in range(number_of_repetitions):\n",
    "    \n",
    "#     inicio = time.time()\n",
    "#     dtw_matrix = np.zeros((len(x), len(x)))\n",
    "#     for i in range(len(x)):\n",
    "#         for j in range(len(x)):\n",
    "#             pat1 = x[i]\n",
    "#             pat2 = x[j]\n",
    "#             d, cost_matrix, acc_cost_matrix, path = dtw(pat1, pat2, dist=distance.euclidean)\n",
    "#             dtw_matrix[i,j] = d\n",
    "\n",
    "#     fin = time.time()\n",
    "#     time_dtw_dep.append(fin-inicio)"
   ]
  },
  {
   "cell_type": "markdown",
   "metadata": {},
   "source": [
    "# 5. pydtw. Does not work for windows. I can't install it even though it fulfills dependencies.\n"
   ]
  },
  {
   "cell_type": "markdown",
   "metadata": {},
   "source": [
    "# 6. soft-dtw. DTW dependent. There is no possibility to calculate independent DTW. I can't install it even though it fulfills dependencies.\n"
   ]
  },
  {
   "cell_type": "markdown",
   "metadata": {},
   "source": [
    "# 7. dtaidistance. DTW independiente\n"
   ]
  },
  {
   "cell_type": "code",
   "execution_count": 6,
   "metadata": {},
   "outputs": [
    {
     "name": "stdout",
     "output_type": "stream",
     "text": [
      "(505, 20, 5)\n"
     ]
    },
    {
     "ename": "KeyboardInterrupt",
     "evalue": "",
     "output_type": "error",
     "traceback": [
      "\u001b[0;31m---------------------------------------------------------------------------\u001b[0m",
      "\u001b[0;31mKeyboardInterrupt\u001b[0m                         Traceback (most recent call last)",
      "Input \u001b[0;32mIn [6]\u001b[0m, in \u001b[0;36m<cell line: 9>\u001b[0;34m()\u001b[0m\n\u001b[1;32m     18\u001b[0m         dtw_i \u001b[38;5;241m=\u001b[39m \u001b[38;5;241m0\u001b[39m\n\u001b[1;32m     19\u001b[0m         \u001b[38;5;28;01mfor\u001b[39;00m dim \u001b[38;5;129;01min\u001b[39;00m \u001b[38;5;28mrange\u001b[39m(pat1\u001b[38;5;241m.\u001b[39mshape[\u001b[38;5;241m1\u001b[39m]): \n\u001b[0;32m---> 20\u001b[0m             dtw_i \u001b[38;5;241m+\u001b[39m\u001b[38;5;241m=\u001b[39m \u001b[43mdtw_ndim\u001b[49m\u001b[38;5;241;43m.\u001b[39;49m\u001b[43mdistance\u001b[49m\u001b[43m(\u001b[49m\u001b[43mpat1\u001b[49m\u001b[43m[\u001b[49m\u001b[43m:\u001b[49m\u001b[43m,\u001b[49m\u001b[43m \u001b[49m\u001b[43mdim\u001b[49m\u001b[43m]\u001b[49m\u001b[43m,\u001b[49m\u001b[43m \u001b[49m\u001b[43mpat2\u001b[49m\u001b[43m[\u001b[49m\u001b[43m:\u001b[49m\u001b[43m,\u001b[49m\u001b[43mdim\u001b[49m\u001b[43m]\u001b[49m\u001b[43m)\u001b[49m\n\u001b[1;32m     21\u001b[0m         dtw_matrix_indep[i,j] \u001b[38;5;241m=\u001b[39m dtw_i\n\u001b[1;32m     23\u001b[0m fin \u001b[38;5;241m=\u001b[39m time\u001b[38;5;241m.\u001b[39mtime()\n",
      "File \u001b[0;32m~/.local/lib/python3.8/site-packages/dtaidistance/dtw_ndim.py:206\u001b[0m, in \u001b[0;36mdistance\u001b[0;34m(s1, s2, window, max_dist, max_step, max_length_diff, penalty, psi, use_c, use_pruning, only_ub)\u001b[0m\n\u001b[1;32m    204\u001b[0m     dtw[i1 \u001b[38;5;241m*\u001b[39m length] \u001b[38;5;241m=\u001b[39m \u001b[38;5;241m0\u001b[39m\n\u001b[1;32m    205\u001b[0m \u001b[38;5;28;01mfor\u001b[39;00m j \u001b[38;5;129;01min\u001b[39;00m \u001b[38;5;28mrange\u001b[39m(j_start, j_end):\n\u001b[0;32m--> 206\u001b[0m     d \u001b[38;5;241m=\u001b[39m \u001b[43mnp\u001b[49m\u001b[38;5;241;43m.\u001b[39;49m\u001b[43msum\u001b[49m\u001b[43m(\u001b[49m\u001b[43m(\u001b[49m\u001b[43ms1\u001b[49m\u001b[43m[\u001b[49m\u001b[43mi\u001b[49m\u001b[43m]\u001b[49m\u001b[43m \u001b[49m\u001b[38;5;241;43m-\u001b[39;49m\u001b[43m \u001b[49m\u001b[43ms2\u001b[49m\u001b[43m[\u001b[49m\u001b[43mj\u001b[49m\u001b[43m]\u001b[49m\u001b[43m)\u001b[49m\u001b[43m \u001b[49m\u001b[38;5;241;43m*\u001b[39;49m\u001b[38;5;241;43m*\u001b[39;49m\u001b[43m \u001b[49m\u001b[38;5;241;43m2\u001b[39;49m\u001b[43m)\u001b[49m\n\u001b[1;32m    207\u001b[0m     \u001b[38;5;28;01mif\u001b[39;00m d \u001b[38;5;241m>\u001b[39m max_step:\n\u001b[1;32m    208\u001b[0m         \u001b[38;5;28;01mcontinue\u001b[39;00m\n",
      "File \u001b[0;32m<__array_function__ internals>:180\u001b[0m, in \u001b[0;36msum\u001b[0;34m(*args, **kwargs)\u001b[0m\n",
      "File \u001b[0;32m~/.local/lib/python3.8/site-packages/numpy/core/fromnumeric.py:2298\u001b[0m, in \u001b[0;36msum\u001b[0;34m(a, axis, dtype, out, keepdims, initial, where)\u001b[0m\n\u001b[1;32m   2295\u001b[0m         \u001b[38;5;28;01mreturn\u001b[39;00m out\n\u001b[1;32m   2296\u001b[0m     \u001b[38;5;28;01mreturn\u001b[39;00m res\n\u001b[0;32m-> 2298\u001b[0m \u001b[38;5;28;01mreturn\u001b[39;00m \u001b[43m_wrapreduction\u001b[49m\u001b[43m(\u001b[49m\u001b[43ma\u001b[49m\u001b[43m,\u001b[49m\u001b[43m \u001b[49m\u001b[43mnp\u001b[49m\u001b[38;5;241;43m.\u001b[39;49m\u001b[43madd\u001b[49m\u001b[43m,\u001b[49m\u001b[43m \u001b[49m\u001b[38;5;124;43m'\u001b[39;49m\u001b[38;5;124;43msum\u001b[39;49m\u001b[38;5;124;43m'\u001b[39;49m\u001b[43m,\u001b[49m\u001b[43m \u001b[49m\u001b[43maxis\u001b[49m\u001b[43m,\u001b[49m\u001b[43m \u001b[49m\u001b[43mdtype\u001b[49m\u001b[43m,\u001b[49m\u001b[43m \u001b[49m\u001b[43mout\u001b[49m\u001b[43m,\u001b[49m\u001b[43m \u001b[49m\u001b[43mkeepdims\u001b[49m\u001b[38;5;241;43m=\u001b[39;49m\u001b[43mkeepdims\u001b[49m\u001b[43m,\u001b[49m\n\u001b[1;32m   2299\u001b[0m \u001b[43m                      \u001b[49m\u001b[43minitial\u001b[49m\u001b[38;5;241;43m=\u001b[39;49m\u001b[43minitial\u001b[49m\u001b[43m,\u001b[49m\u001b[43m \u001b[49m\u001b[43mwhere\u001b[49m\u001b[38;5;241;43m=\u001b[39;49m\u001b[43mwhere\u001b[49m\u001b[43m)\u001b[49m\n",
      "File \u001b[0;32m~/.local/lib/python3.8/site-packages/numpy/core/fromnumeric.py:86\u001b[0m, in \u001b[0;36m_wrapreduction\u001b[0;34m(obj, ufunc, method, axis, dtype, out, **kwargs)\u001b[0m\n\u001b[1;32m     83\u001b[0m         \u001b[38;5;28;01melse\u001b[39;00m:\n\u001b[1;32m     84\u001b[0m             \u001b[38;5;28;01mreturn\u001b[39;00m reduction(axis\u001b[38;5;241m=\u001b[39maxis, out\u001b[38;5;241m=\u001b[39mout, \u001b[38;5;241m*\u001b[39m\u001b[38;5;241m*\u001b[39mpasskwargs)\n\u001b[0;32m---> 86\u001b[0m \u001b[38;5;28;01mreturn\u001b[39;00m \u001b[43mufunc\u001b[49m\u001b[38;5;241;43m.\u001b[39;49m\u001b[43mreduce\u001b[49m\u001b[43m(\u001b[49m\u001b[43mobj\u001b[49m\u001b[43m,\u001b[49m\u001b[43m \u001b[49m\u001b[43maxis\u001b[49m\u001b[43m,\u001b[49m\u001b[43m \u001b[49m\u001b[43mdtype\u001b[49m\u001b[43m,\u001b[49m\u001b[43m \u001b[49m\u001b[43mout\u001b[49m\u001b[43m,\u001b[49m\u001b[43m \u001b[49m\u001b[38;5;241;43m*\u001b[39;49m\u001b[38;5;241;43m*\u001b[39;49m\u001b[43mpasskwargs\u001b[49m\u001b[43m)\u001b[49m\n",
      "\u001b[0;31mKeyboardInterrupt\u001b[0m: "
     ]
    }
   ],
   "source": [
    "from scipy.spatial import distance\n",
    "\n",
    "x = np.load('../../Data/E2_FinanceData/FinanceData_20days.npy', allow_pickle=True)\n",
    "\n",
    "print(x.shape)\n",
    "\n",
    "time_fastdtw_indep = []\n",
    "\n",
    "for rep in range(number_of_repetitions):\n",
    "\n",
    "    inicio = time.time()\n",
    "\n",
    "    dtw_matrix_indep = np.zeros((len(x), len(x)))\n",
    "    for i in range(len(x)):\n",
    "        for j in range(len(x)):\n",
    "            pat1 = x[i]\n",
    "            pat2 = x[j]\n",
    "            dtw_i = 0\n",
    "            for dim in range(pat1.shape[1]): \n",
    "                dtw_i += dtw_ndim.distance(pat1[:, dim], pat2[:,dim])\n",
    "            dtw_matrix_indep[i,j] = dtw_i\n",
    "\n",
    "    fin = time.time()\n",
    "    time_fastdtw_indep.append(fin-inicio)\n",
    "    \n",
    "f = open(\"dtaidistance_vf_ind.txt\", \"a\")\n",
    "f.write(str(time_fastdtw_indep))\n",
    "f.close()"
   ]
  },
  {
   "cell_type": "code",
   "execution_count": null,
   "metadata": {},
   "outputs": [],
   "source": []
  },
  {
   "cell_type": "code",
   "execution_count": null,
   "metadata": {},
   "outputs": [],
   "source": []
  },
  {
   "cell_type": "code",
   "execution_count": null,
   "metadata": {},
   "outputs": [],
   "source": []
  }
 ],
 "metadata": {
  "kernelspec": {
   "display_name": "Python 3 (ipykernel)",
   "language": "python",
   "name": "python3"
  },
  "language_info": {
   "codemirror_mode": {
    "name": "ipython",
    "version": 3
   },
   "file_extension": ".py",
   "mimetype": "text/x-python",
   "name": "python",
   "nbconvert_exporter": "python",
   "pygments_lexer": "ipython3",
   "version": "3.8.0"
  }
 },
 "nbformat": 4,
 "nbformat_minor": 4
}
