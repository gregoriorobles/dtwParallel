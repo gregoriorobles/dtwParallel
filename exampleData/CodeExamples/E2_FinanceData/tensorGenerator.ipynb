{
 "cells": [
  {
   "cell_type": "markdown",
   "id": "1480f51c",
   "metadata": {},
   "source": [
    "## Code to process information from 505 financial companies"
   ]
  },
  {
   "cell_type": "code",
   "execution_count": 2,
   "id": "b606838d",
   "metadata": {},
   "outputs": [],
   "source": [
    "# importing the required modules\n",
    "import glob\n",
    "import pandas as pd\n",
    "import numpy as np\n",
    "  \n",
    "# specifying the path to csv files\n",
    "path = \"./all_data\"\n",
    "  \n",
    "# csv files in the path\n",
    "files = glob.glob(path + \"/*.csv\")\n",
    "  \n",
    "# defining an empty list to store \n",
    "# content\n",
    "data_frame = pd.DataFrame()\n",
    "content = []\n",
    "  \n",
    "# checking all the csv files in the specified path\n",
    "for filename in files:\n",
    "    # reading content of csv file\n",
    "    df = pd.read_csv(filename, sep=\";\", index_col=None)\n",
    "    content.append(df)\n",
    "  \n",
    "# converting content to data frame\n",
    "data_frame = pd.concat(content)"
   ]
  },
  {
   "cell_type": "code",
   "execution_count": 11,
   "id": "2923e829",
   "metadata": {},
   "outputs": [],
   "source": [
    "valueMax = np.inf\n",
    "ifinal = 0\n",
    "for i in range(len(content)):\n",
    "    if valueMax > content[i].shape[0]:\n",
    "        valueMax = content[i].shape[0]\n",
    "        ifinal = i\n",
    "\n",
    "valueMax = 20\n",
    "df = pd.DataFrame()\n",
    "content_f = []\n",
    "for i in range(len(content)):\n",
    "    content_f.append(content[i][0:valueMax])\n",
    "df = pd.concat(content_f)"
   ]
  },
  {
   "cell_type": "code",
   "execution_count": 12,
   "id": "89f2c1a7",
   "metadata": {},
   "outputs": [],
   "source": [
    "def dataframe_to_tensor(df, eliminateColumn, columns, valueMax):       \n",
    "    eliminateColumn = True\n",
    "    columns=[\"Timestamp\"]\n",
    "\n",
    "    _, idx = np.unique(df.Symbol, return_index=True)\n",
    "    listSamples = np.array(df.Symbol)[np.sort(idx)]\n",
    "\n",
    "    index = df.index\n",
    "\n",
    "    for i in range(len(listSamples)):\n",
    "        df_trial = df[df.Symbol == listSamples[i]]\n",
    "        if eliminateColumn:\n",
    "            df_trial = df_trial.drop(columns=columns)\n",
    "        if i == 0:\n",
    "            X = np.array(df_trial)\n",
    "            X = X.reshape(1, valueMax, df.shape[1] - len(columns))\n",
    "        else:\n",
    "            X_2 = np.array(df_trial)\n",
    "            X_2 = X_2.reshape(1, valueMax, df.shape[1] - len(columns))\n",
    "            X = np.append(X, X_2, axis=0)\n",
    "\n",
    "    X = np.delete(X, [0,-1], axis=2)\n",
    "\n",
    "    return X"
   ]
  },
  {
   "cell_type": "code",
   "execution_count": 13,
   "id": "b6f29da4",
   "metadata": {},
   "outputs": [],
   "source": [
    "X_data_tensor = dataframe_to_tensor(\n",
    "                 df, \n",
    "                 eliminateColumn=True, columns=[\"Timestamp\"], \n",
    "                 valueMax=valueMax)\n",
    "\n",
    "np.save(\n",
    "   \"./X_data_2\", X_data_tensor\n",
    ")"
   ]
  }
 ],
 "metadata": {
  "kernelspec": {
   "display_name": "Python 3 (ipykernel)",
   "language": "python",
   "name": "python3"
  },
  "language_info": {
   "codemirror_mode": {
    "name": "ipython",
    "version": 3
   },
   "file_extension": ".py",
   "mimetype": "text/x-python",
   "name": "python",
   "nbconvert_exporter": "python",
   "pygments_lexer": "ipython3",
   "version": "3.8.0"
  }
 },
 "nbformat": 4,
 "nbformat_minor": 5
}
