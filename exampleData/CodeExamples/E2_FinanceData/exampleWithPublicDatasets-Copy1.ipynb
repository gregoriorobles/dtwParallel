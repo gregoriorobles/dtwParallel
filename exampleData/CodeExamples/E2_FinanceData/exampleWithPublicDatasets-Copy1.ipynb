{
 "cells": [
  {
   "cell_type": "code",
   "execution_count": 1,
   "metadata": {},
   "outputs": [],
   "source": [
    "from fastdtw import fastdtw\n",
    "from dtaidistance import dtw, dtw_ndim\n",
    "\n",
    "import time\n",
    "\n",
    "from dtwParallel import dtw_functions\n",
    "\n",
    "\n",
    "from scipy.spatial import distance\n",
    "import numpy as np\n",
    "\n",
    "import matplotlib.pyplot as plt"
   ]
  },
  {
   "cell_type": "markdown",
   "metadata": {},
   "source": [
    "## Mi librería"
   ]
  },
  {
   "cell_type": "code",
   "execution_count": null,
   "metadata": {
    "scrolled": true
   },
   "outputs": [],
   "source": [
    "# PAQUETE DESARROLLADO: DTW DEPENDIENTE\n",
    "\n",
    "class Input:\n",
    "    def __init__(self):\n",
    "        self.check_errors = False \n",
    "        self.type_dtw = \"d\"\n",
    "        self.MTS = True\n",
    "        self.n_threads = -1\n",
    "        self.distance = distance.euclidean\n",
    "        self.visualization = False\n",
    "        self.output_file = False\n",
    "        self.DTW_to_kernel = False\n",
    "        self.sigma = 1\n",
    "        \n",
    "        \n",
    "x = np.load('./X_data_2.npy', allow_pickle=True)\n",
    "y = x.copy()\n",
    "\n",
    "# print(x.shape)\n",
    "# print(y.shape)\n",
    "\n",
    "number = 2**7\n",
    "n_threads = [2**n for n in range(number) if 2**n < number]\n",
    "n_threads.append(-1)\n",
    "\n",
    "# Hacer 30 veces y quedarme con la media o mediana del tiempo.\n",
    "dicc = {}\n",
    "for i in range(len(n_threads)):\n",
    "    f = open(\"contador_dep.txt\", \"a\")\n",
    "    f.write(str(i))\n",
    "    f.close()\n",
    "    times_1 = []\n",
    "    for j in range(30):\n",
    "        input_obj = Input()\n",
    "        input_obj.n_threads = n_threads[i]\n",
    "\n",
    "        inicio = time.time()\n",
    "\n",
    "        _ = dtw_functions.dtw_tensor_3d(x, y, input_obj)\n",
    "\n",
    "        fin = time.time()\n",
    "\n",
    "        times_1.append(fin-inicio)\n",
    "\n",
    "    dicc[i] = times_1\n",
    "\n",
    "    \n",
    "f = open(\"time_dtwParallel_2_dep.txt\", \"a\")\n",
    "f.write(str(dicc))\n",
    "f.close()"
   ]
  },
  {
   "cell_type": "code",
   "execution_count": null,
   "metadata": {},
   "outputs": [],
   "source": [
    "# PAQUETE DESARROLLADO: DTW DEPENDIENTE\n",
    "\n",
    "class Input:\n",
    "    def __init__(self):\n",
    "        self.check_errors = False \n",
    "        self.type_dtw = \"i\"\n",
    "        self.MTS = True\n",
    "        self.n_threads = -1\n",
    "        self.distance = distance.euclidean\n",
    "        self.visualization = False\n",
    "        self.output_file = False\n",
    "        self.DTW_to_kernel = False\n",
    "        self.sigma = 1\n",
    "        \n",
    "        \n",
    "x = np.load('./X_data_2.npy', allow_pickle=True)\n",
    "y = x.copy()\n",
    "\n",
    "print(x.shape)\n",
    "print(y.shape)\n",
    "\n",
    "number = 2**7\n",
    "n_threads = [2**n for n in range(number) if 2**n < number]\n",
    "n_threads.append(-1)\n",
    "\n",
    "# Hacer 30 veces y quedarme con la media o mediana del tiempo.\n",
    "dicc = {}\n",
    "for i in range(len(n_threads)):\n",
    "    f = open(\"contador_ind.txt\", \"a\")\n",
    "    f.write(str(i))\n",
    "    f.close()\n",
    "    times_1 = []\n",
    "    for j in range(30):\n",
    "        input_obj = Input()\n",
    "        input_obj.n_threads = n_threads[i]\n",
    "\n",
    "        inicio = time.time()\n",
    "\n",
    "        _ = dtw_functions.dtw_tensor_3d(x, y, input_obj)\n",
    "\n",
    "        fin = time.time()\n",
    "\n",
    "        times_1.append(fin-inicio)\n",
    "\n",
    "    dicc[i] = times_1\n",
    "\n",
    "    \n",
    "f = open(\"time_dtwParallel_2_ind.txt\", \"a\")\n",
    "f.write(str(dicc))\n",
    "f.close()"
   ]
  },
  {
   "cell_type": "markdown",
   "metadata": {},
   "source": [
    "## Plot figures"
   ]
  },
  {
   "cell_type": "code",
   "execution_count": null,
   "metadata": {},
   "outputs": [],
   "source": [
    "values = []\n",
    "keys = list(dicc.keys())\n",
    "for i in range(len(keys)):\n",
    "    values.append(np.mean(dicc[keys[i]]))\n",
    "    print(np.mean(dicc[keys[i]]))\n",
    "    \n",
    "\n",
    "fig,axis = plt.subplots(1,1,figsize=(8,6))\n",
    "\n",
    "axis.plot(keys,values,'bo--',linewidth=2,alpha=1)\n",
    "\n",
    "plt.xticks(keys, n_threads, fontsize=20)\n",
    "plt.yticks(fontsize=20)\n",
    "plt.show()"
   ]
  },
  {
   "cell_type": "code",
   "execution_count": null,
   "metadata": {},
   "outputs": [],
   "source": []
  },
  {
   "cell_type": "code",
   "execution_count": null,
   "metadata": {},
   "outputs": [],
   "source": []
  }
 ],
 "metadata": {
  "kernelspec": {
   "display_name": "Python 3 (ipykernel)",
   "language": "python",
   "name": "python3"
  },
  "language_info": {
   "codemirror_mode": {
    "name": "ipython",
    "version": 3
   },
   "file_extension": ".py",
   "mimetype": "text/x-python",
   "name": "python",
   "nbconvert_exporter": "python",
   "pygments_lexer": "ipython3",
   "version": "3.8.0"
  }
 },
 "nbformat": 4,
 "nbformat_minor": 4
}
