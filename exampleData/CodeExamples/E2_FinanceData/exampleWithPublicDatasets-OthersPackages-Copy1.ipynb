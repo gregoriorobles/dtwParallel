{
 "cells": [
  {
   "cell_type": "code",
   "execution_count": 1,
   "metadata": {},
   "outputs": [],
   "source": [
    "# package 1\n",
    "from dtaidistance import dtw, dtw_ndim\n",
    "# package 2\n",
    "from fastdtw import fastdtw\n",
    "# package 4\n",
    "from dtw import dtw\n",
    "# package 5\n",
    "# from pydtw import dtw2d\n",
    "# package 6\n",
    "# from sdtw import SoftDTW\n",
    "# from sdtw.distance import SquaredEuclidean\n",
    "\n",
    "import time\n",
    "from scipy.spatial import distance\n",
    "import numpy as np"
   ]
  },
  {
   "cell_type": "code",
   "execution_count": 2,
   "metadata": {},
   "outputs": [],
   "source": [
    "number_of_repetitions = 30"
   ]
  },
  {
   "cell_type": "markdown",
   "metadata": {},
   "source": [
    "* The currently tested packages can only work with distances that do not allow the computation of data of different nature. For this reason, a public data set obtained from https://finance.yahoo.com/ has been used. All data are continuous."
   ]
  },
  {
   "cell_type": "markdown",
   "metadata": {},
   "source": [
    "# 1. dtaidistance. DTW dependent"
   ]
  },
  {
   "cell_type": "code",
   "execution_count": 3,
   "metadata": {},
   "outputs": [],
   "source": [
    "# x = np.load('./X_data_2.npy', allow_pickle=True)\n",
    "\n",
    "# print(x.shape)\n",
    "\n",
    "# time_dtaidistance_dep = []\n",
    "\n",
    "# for rep in range(number_of_repetitions):\n",
    "#     inicio = time.time()\n",
    "\n",
    "#     dtw_matrix_dep = np.zeros((len(x), len(x)))\n",
    "#     for i in range(len(x)):\n",
    "#         for j in range(len(x)):\n",
    "#             pat1 = x[i]\n",
    "#             pat2 = x[j]\n",
    "#             dtw_distance = dtw_ndim.distance(pat1, pat2)\n",
    "#             dtw_matrix_dep[i,j] = dtw_distance\n",
    "\n",
    "#     fin = time.time()\n",
    "#     time_dtaidistance_dep.append(fin-inicio)"
   ]
  },
  {
   "cell_type": "markdown",
   "metadata": {},
   "source": [
    "# 2. fastdtw. DTW dependent. There is no possibility to calculate independent DTW."
   ]
  },
  {
   "cell_type": "code",
   "execution_count": 4,
   "metadata": {},
   "outputs": [
    {
     "name": "stdout",
     "output_type": "stream",
     "text": [
      "(505, 20, 5)\n"
     ]
    },
    {
     "ename": "KeyboardInterrupt",
     "evalue": "",
     "output_type": "error",
     "traceback": [
      "\u001b[0;31m---------------------------------------------------------------------------\u001b[0m",
      "\u001b[0;31mKeyboardInterrupt\u001b[0m                         Traceback (most recent call last)",
      "Input \u001b[0;32mIn [4]\u001b[0m, in \u001b[0;36m<cell line: 7>\u001b[0;34m()\u001b[0m\n\u001b[1;32m     13\u001b[0m         pat1 \u001b[38;5;241m=\u001b[39m x[i]\n\u001b[1;32m     14\u001b[0m         pat2 \u001b[38;5;241m=\u001b[39m x[j]\n\u001b[0;32m---> 15\u001b[0m         dtw_distance, _ \u001b[38;5;241m=\u001b[39m \u001b[43mfastdtw\u001b[49m\u001b[43m(\u001b[49m\u001b[43mpat1\u001b[49m\u001b[43m,\u001b[49m\u001b[43m \u001b[49m\u001b[43mpat2\u001b[49m\u001b[43m)\u001b[49m\n\u001b[1;32m     16\u001b[0m         dtw_matrix[i,j] \u001b[38;5;241m=\u001b[39m dtw_distance\n\u001b[1;32m     18\u001b[0m fin \u001b[38;5;241m=\u001b[39m time\u001b[38;5;241m.\u001b[39mtime()\n",
      "File \u001b[0;32m~/.local/lib/python3.8/site-packages/fastdtw/fastdtw.py:53\u001b[0m, in \u001b[0;36mfastdtw\u001b[0;34m(x, y, radius, dist)\u001b[0m\n\u001b[1;32m     16\u001b[0m \u001b[38;5;124;03m''' return the approximate distance between 2 time series with O(N)\u001b[39;00m\n\u001b[1;32m     17\u001b[0m \u001b[38;5;124;03m    time and memory complexity\u001b[39;00m\n\u001b[1;32m     18\u001b[0m \n\u001b[0;32m   (...)\u001b[0m\n\u001b[1;32m     50\u001b[0m \u001b[38;5;124;03m    (2.0, [(0, 0), (1, 0), (2, 1), (3, 2), (4, 2)])\u001b[39;00m\n\u001b[1;32m     51\u001b[0m \u001b[38;5;124;03m'''\u001b[39;00m\n\u001b[1;32m     52\u001b[0m x, y, dist \u001b[38;5;241m=\u001b[39m __prep_inputs(x, y, dist)\n\u001b[0;32m---> 53\u001b[0m \u001b[38;5;28;01mreturn\u001b[39;00m \u001b[43m__fastdtw\u001b[49m\u001b[43m(\u001b[49m\u001b[43mx\u001b[49m\u001b[43m,\u001b[49m\u001b[43m \u001b[49m\u001b[43my\u001b[49m\u001b[43m,\u001b[49m\u001b[43m \u001b[49m\u001b[43mradius\u001b[49m\u001b[43m,\u001b[49m\u001b[43m \u001b[49m\u001b[43mdist\u001b[49m\u001b[43m)\u001b[49m\n",
      "File \u001b[0;32m~/.local/lib/python3.8/site-packages/fastdtw/fastdtw.py:73\u001b[0m, in \u001b[0;36m__fastdtw\u001b[0;34m(x, y, radius, dist)\u001b[0m\n\u001b[1;32m     70\u001b[0m x_shrinked \u001b[38;5;241m=\u001b[39m __reduce_by_half(x)\n\u001b[1;32m     71\u001b[0m y_shrinked \u001b[38;5;241m=\u001b[39m __reduce_by_half(y)\n\u001b[1;32m     72\u001b[0m distance, path \u001b[38;5;241m=\u001b[39m \\\n\u001b[0;32m---> 73\u001b[0m     \u001b[43m__fastdtw\u001b[49m\u001b[43m(\u001b[49m\u001b[43mx_shrinked\u001b[49m\u001b[43m,\u001b[49m\u001b[43m \u001b[49m\u001b[43my_shrinked\u001b[49m\u001b[43m,\u001b[49m\u001b[43m \u001b[49m\u001b[43mradius\u001b[49m\u001b[38;5;241;43m=\u001b[39;49m\u001b[43mradius\u001b[49m\u001b[43m,\u001b[49m\u001b[43m \u001b[49m\u001b[43mdist\u001b[49m\u001b[38;5;241;43m=\u001b[39;49m\u001b[43mdist\u001b[49m\u001b[43m)\u001b[49m\n\u001b[1;32m     74\u001b[0m window \u001b[38;5;241m=\u001b[39m __expand_window(path, \u001b[38;5;28mlen\u001b[39m(x), \u001b[38;5;28mlen\u001b[39m(y), radius)\n\u001b[1;32m     75\u001b[0m \u001b[38;5;28;01mreturn\u001b[39;00m __dtw(x, y, window, dist\u001b[38;5;241m=\u001b[39mdist)\n",
      "File \u001b[0;32m~/.local/lib/python3.8/site-packages/fastdtw/fastdtw.py:73\u001b[0m, in \u001b[0;36m__fastdtw\u001b[0;34m(x, y, radius, dist)\u001b[0m\n\u001b[1;32m     70\u001b[0m x_shrinked \u001b[38;5;241m=\u001b[39m __reduce_by_half(x)\n\u001b[1;32m     71\u001b[0m y_shrinked \u001b[38;5;241m=\u001b[39m __reduce_by_half(y)\n\u001b[1;32m     72\u001b[0m distance, path \u001b[38;5;241m=\u001b[39m \\\n\u001b[0;32m---> 73\u001b[0m     \u001b[43m__fastdtw\u001b[49m\u001b[43m(\u001b[49m\u001b[43mx_shrinked\u001b[49m\u001b[43m,\u001b[49m\u001b[43m \u001b[49m\u001b[43my_shrinked\u001b[49m\u001b[43m,\u001b[49m\u001b[43m \u001b[49m\u001b[43mradius\u001b[49m\u001b[38;5;241;43m=\u001b[39;49m\u001b[43mradius\u001b[49m\u001b[43m,\u001b[49m\u001b[43m \u001b[49m\u001b[43mdist\u001b[49m\u001b[38;5;241;43m=\u001b[39;49m\u001b[43mdist\u001b[49m\u001b[43m)\u001b[49m\n\u001b[1;32m     74\u001b[0m window \u001b[38;5;241m=\u001b[39m __expand_window(path, \u001b[38;5;28mlen\u001b[39m(x), \u001b[38;5;28mlen\u001b[39m(y), radius)\n\u001b[1;32m     75\u001b[0m \u001b[38;5;28;01mreturn\u001b[39;00m __dtw(x, y, window, dist\u001b[38;5;241m=\u001b[39mdist)\n",
      "File \u001b[0;32m~/.local/lib/python3.8/site-packages/fastdtw/fastdtw.py:75\u001b[0m, in \u001b[0;36m__fastdtw\u001b[0;34m(x, y, radius, dist)\u001b[0m\n\u001b[1;32m     72\u001b[0m distance, path \u001b[38;5;241m=\u001b[39m \\\n\u001b[1;32m     73\u001b[0m     __fastdtw(x_shrinked, y_shrinked, radius\u001b[38;5;241m=\u001b[39mradius, dist\u001b[38;5;241m=\u001b[39mdist)\n\u001b[1;32m     74\u001b[0m window \u001b[38;5;241m=\u001b[39m __expand_window(path, \u001b[38;5;28mlen\u001b[39m(x), \u001b[38;5;28mlen\u001b[39m(y), radius)\n\u001b[0;32m---> 75\u001b[0m \u001b[38;5;28;01mreturn\u001b[39;00m \u001b[43m__dtw\u001b[49m\u001b[43m(\u001b[49m\u001b[43mx\u001b[49m\u001b[43m,\u001b[49m\u001b[43m \u001b[49m\u001b[43my\u001b[49m\u001b[43m,\u001b[49m\u001b[43m \u001b[49m\u001b[43mwindow\u001b[49m\u001b[43m,\u001b[49m\u001b[43m \u001b[49m\u001b[43mdist\u001b[49m\u001b[38;5;241;43m=\u001b[39;49m\u001b[43mdist\u001b[49m\u001b[43m)\u001b[49m\n",
      "File \u001b[0;32m~/.local/lib/python3.8/site-packages/fastdtw/fastdtw.py:142\u001b[0m, in \u001b[0;36m__dtw\u001b[0;34m(x, y, window, dist)\u001b[0m\n\u001b[1;32m    140\u001b[0m \u001b[38;5;28;01mfor\u001b[39;00m i, j \u001b[38;5;129;01min\u001b[39;00m window:\n\u001b[1;32m    141\u001b[0m     dt \u001b[38;5;241m=\u001b[39m dist(x[i\u001b[38;5;241m-\u001b[39m\u001b[38;5;241m1\u001b[39m], y[j\u001b[38;5;241m-\u001b[39m\u001b[38;5;241m1\u001b[39m])\n\u001b[0;32m--> 142\u001b[0m     D[i, j] \u001b[38;5;241m=\u001b[39m \u001b[38;5;28mmin\u001b[39m((\u001b[43mD\u001b[49m\u001b[43m[\u001b[49m\u001b[43mi\u001b[49m\u001b[38;5;241;43m-\u001b[39;49m\u001b[38;5;241;43m1\u001b[39;49m\u001b[43m,\u001b[49m\u001b[43m \u001b[49m\u001b[43mj\u001b[49m\u001b[43m]\u001b[49m[\u001b[38;5;241m0\u001b[39m]\u001b[38;5;241m+\u001b[39mdt, i\u001b[38;5;241m-\u001b[39m\u001b[38;5;241m1\u001b[39m, j), (D[i, j\u001b[38;5;241m-\u001b[39m\u001b[38;5;241m1\u001b[39m][\u001b[38;5;241m0\u001b[39m]\u001b[38;5;241m+\u001b[39mdt, i, j\u001b[38;5;241m-\u001b[39m\u001b[38;5;241m1\u001b[39m),\n\u001b[1;32m    143\u001b[0m                   (D[i\u001b[38;5;241m-\u001b[39m\u001b[38;5;241m1\u001b[39m, j\u001b[38;5;241m-\u001b[39m\u001b[38;5;241m1\u001b[39m][\u001b[38;5;241m0\u001b[39m]\u001b[38;5;241m+\u001b[39mdt, i\u001b[38;5;241m-\u001b[39m\u001b[38;5;241m1\u001b[39m, j\u001b[38;5;241m-\u001b[39m\u001b[38;5;241m1\u001b[39m), key\u001b[38;5;241m=\u001b[39m\u001b[38;5;28;01mlambda\u001b[39;00m a: a[\u001b[38;5;241m0\u001b[39m])\n\u001b[1;32m    144\u001b[0m path \u001b[38;5;241m=\u001b[39m []\n\u001b[1;32m    145\u001b[0m i, j \u001b[38;5;241m=\u001b[39m len_x, len_y\n",
      "\u001b[0;31mKeyboardInterrupt\u001b[0m: "
     ]
    }
   ],
   "source": [
    "x = np.load('../../Data/E2_FinanceData/FinanceData_20days.npy', allow_pickle=True)\n",
    "\n",
    "print(x.shape)\n",
    "\n",
    "time_fastdtw_dep = []\n",
    "\n",
    "for rep in range(number_of_repetitions):\n",
    "    \n",
    "    inicio = time.time()\n",
    "    dtw_matrix = np.zeros((len(x), len(x)))\n",
    "    for i in range(len(x)):\n",
    "        for j in range(len(x)):\n",
    "            pat1 = x[i]\n",
    "            pat2 = x[j]\n",
    "            dtw_distance, _ = fastdtw(pat1, pat2)\n",
    "            dtw_matrix[i,j] = dtw_distance\n",
    "\n",
    "    fin = time.time()\n",
    "    time_fastdtw_dep.append(fin-inicio)\n",
    "    \n",
    "f = open(\"fastdtw_vf.txt\", \"a\")\n",
    "f.write(str(time_fastdtw_dep))\n",
    "f.close()"
   ]
  },
  {
   "cell_type": "markdown",
   "metadata": {},
   "source": [
    "# 3. dtw-python. No examples of use are available. Complex usage.\n"
   ]
  },
  {
   "cell_type": "markdown",
   "metadata": {},
   "source": [
    "# 4. dtw. DTW dependent. There is no possibility to calculate independent DTW."
   ]
  },
  {
   "cell_type": "code",
   "execution_count": null,
   "metadata": {},
   "outputs": [],
   "source": [
    "# x = np.load('./X_data_2.npy', allow_pickle=True)\n",
    "\n",
    "# print(x.shape)\n",
    "\n",
    "# time_dtw_dep = []\n",
    "\n",
    "# for rep in range(number_of_repetitions):\n",
    "    \n",
    "#     inicio = time.time()\n",
    "#     dtw_matrix = np.zeros((len(x), len(x)))\n",
    "#     for i in range(len(x)):\n",
    "#         for j in range(len(x)):\n",
    "#             pat1 = x[i]\n",
    "#             pat2 = x[j]\n",
    "#             d, cost_matrix, acc_cost_matrix, path = dtw(pat1, pat2, dist=distance.euclidean)\n",
    "#             dtw_matrix[i,j] = d\n",
    "\n",
    "#     fin = time.time()\n",
    "#     time_dtw_dep.append(fin-inicio)"
   ]
  },
  {
   "cell_type": "markdown",
   "metadata": {},
   "source": [
    "# 5. pydtw. Does not work for windows. I can't install it even though it fulfills dependencies.\n"
   ]
  },
  {
   "cell_type": "markdown",
   "metadata": {},
   "source": [
    "# 6. soft-dtw. DTW dependent. There is no possibility to calculate independent DTW. I can't install it even though it fulfills dependencies.\n"
   ]
  },
  {
   "cell_type": "markdown",
   "metadata": {},
   "source": [
    "# 7. dtaidistance. DTW independiente\n"
   ]
  },
  {
   "cell_type": "code",
   "execution_count": null,
   "metadata": {},
   "outputs": [],
   "source": [
    "# x = np.load('./X_data_2.npy', allow_pickle=True)\n",
    "\n",
    "# print(x.shape)\n",
    "\n",
    "# time_fastdtw_indep = []\n",
    "\n",
    "# for rep in range(number_of_repetitions):\n",
    "\n",
    "#     inicio = time.time()\n",
    "\n",
    "#     dtw_matrix_indep = np.zeros((len(x), len(x)))\n",
    "#     for i in range(len(x)):\n",
    "#         for j in range(len(x)):\n",
    "#             pat1 = x[i]\n",
    "#             pat2 = x[j]\n",
    "#             dtw_i = 0\n",
    "#             for dim in range(pat1.shape[1]): \n",
    "#                 dtw_i += dtw.distance(pat1[:, dim], pat2[:,dim])\n",
    "#             dtw_matrix_indep[i,j] = dtw_i\n",
    "\n",
    "#     fin = time.time()\n",
    "#     time_fastdtw_indep.append(fin-inicio)"
   ]
  },
  {
   "cell_type": "code",
   "execution_count": null,
   "metadata": {},
   "outputs": [],
   "source": []
  },
  {
   "cell_type": "code",
   "execution_count": null,
   "metadata": {},
   "outputs": [],
   "source": []
  },
  {
   "cell_type": "code",
   "execution_count": null,
   "metadata": {},
   "outputs": [],
   "source": []
  }
 ],
 "metadata": {
  "kernelspec": {
   "display_name": "Python 3 (ipykernel)",
   "language": "python",
   "name": "python3"
  },
  "language_info": {
   "codemirror_mode": {
    "name": "ipython",
    "version": 3
   },
   "file_extension": ".py",
   "mimetype": "text/x-python",
   "name": "python",
   "nbconvert_exporter": "python",
   "pygments_lexer": "ipython3",
   "version": "3.8.10"
  }
 },
 "nbformat": 4,
 "nbformat_minor": 4
}
