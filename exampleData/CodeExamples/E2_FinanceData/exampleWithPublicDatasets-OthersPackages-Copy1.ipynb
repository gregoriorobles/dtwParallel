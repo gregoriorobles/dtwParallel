{
 "cells": [
  {
   "cell_type": "code",
   "execution_count": 1,
   "metadata": {},
   "outputs": [],
   "source": [
    "# package 1\n",
    "from dtaidistance import dtw, dtw_ndim\n",
    "# package 2\n",
    "from fastdtw import fastdtw\n",
    "# package 4\n",
    "from dtw import dtw\n",
    "# package 5\n",
    "# from pydtw import dtw2d\n",
    "# package 6\n",
    "# from sdtw import SoftDTW\n",
    "# from sdtw.distance import SquaredEuclidean\n",
    "\n",
    "import time\n",
    "from scipy.spatial import distance\n",
    "import numpy as np"
   ]
  },
  {
   "cell_type": "code",
   "execution_count": 2,
   "metadata": {},
   "outputs": [],
   "source": [
    "number_of_repetitions = 30"
   ]
  },
  {
   "cell_type": "markdown",
   "metadata": {},
   "source": [
    "* The currently tested packages can only work with distances that do not allow the computation of data of different nature. For this reason, a public data set obtained from https://finance.yahoo.com/ has been used. All data are continuous."
   ]
  },
  {
   "cell_type": "markdown",
   "metadata": {},
   "source": [
    "# 1. dtaidistance. DTW dependent"
   ]
  },
  {
   "cell_type": "code",
   "execution_count": null,
   "metadata": {},
   "outputs": [],
   "source": [
    "# x = np.load('./X_data_2.npy', allow_pickle=True)\n",
    "\n",
    "# print(x.shape)\n",
    "\n",
    "# time_dtaidistance_dep = []\n",
    "\n",
    "# for rep in range(number_of_repetitions):\n",
    "#     inicio = time.time()\n",
    "\n",
    "#     dtw_matrix_dep = np.zeros((len(x), len(x)))\n",
    "#     for i in range(len(x)):\n",
    "#         for j in range(len(x)):\n",
    "#             pat1 = x[i]\n",
    "#             pat2 = x[j]\n",
    "#             dtw_distance = dtw_ndim.distance(pat1, pat2)\n",
    "#             dtw_matrix_dep[i,j] = dtw_distance\n",
    "\n",
    "#     fin = time.time()\n",
    "#     time_dtaidistance_dep.append(fin-inicio)"
   ]
  },
  {
   "cell_type": "markdown",
   "metadata": {},
   "source": [
    "# 2. fastdtw. DTW dependent. There is no possibility to calculate independent DTW."
   ]
  },
  {
   "cell_type": "code",
   "execution_count": null,
   "metadata": {},
   "outputs": [
    {
     "name": "stdout",
     "output_type": "stream",
     "text": [
      "(505, 20, 5)\n"
     ]
    }
   ],
   "source": [
    "x = np.load('./X_data_2.npy', allow_pickle=True)\n",
    "\n",
    "print(x.shape)\n",
    "\n",
    "time_fastdtw_dep = []\n",
    "\n",
    "for rep in range(number_of_repetitions):\n",
    "    \n",
    "    inicio = time.time()\n",
    "    dtw_matrix = np.zeros((len(x), len(x)))\n",
    "    for i in range(len(x)):\n",
    "        for j in range(len(x)):\n",
    "            pat1 = x[i]\n",
    "            pat2 = x[j]\n",
    "            dtw_distance, _ = fastdtw(pat1, pat2)\n",
    "            dtw_matrix[i,j] = dtw_distance\n",
    "\n",
    "    fin = time.time()\n",
    "    time_fastdtw_dep.append(fin-inicio)\n",
    "    \n",
    "f = open(\"fastdtw.txt\", \"a\")\n",
    "f.write(str(time_fastdtw_dep))\n",
    "f.close()"
   ]
  },
  {
   "cell_type": "markdown",
   "metadata": {},
   "source": [
    "# 3. dtw-python. No examples of use are available. Complex usage.\n"
   ]
  },
  {
   "cell_type": "markdown",
   "metadata": {},
   "source": [
    "# 4. dtw. DTW dependent. There is no possibility to calculate independent DTW."
   ]
  },
  {
   "cell_type": "code",
   "execution_count": null,
   "metadata": {},
   "outputs": [],
   "source": [
    "# x = np.load('./X_data_2.npy', allow_pickle=True)\n",
    "\n",
    "# print(x.shape)\n",
    "\n",
    "# time_dtw_dep = []\n",
    "\n",
    "# for rep in range(number_of_repetitions):\n",
    "    \n",
    "#     inicio = time.time()\n",
    "#     dtw_matrix = np.zeros((len(x), len(x)))\n",
    "#     for i in range(len(x)):\n",
    "#         for j in range(len(x)):\n",
    "#             pat1 = x[i]\n",
    "#             pat2 = x[j]\n",
    "#             d, cost_matrix, acc_cost_matrix, path = dtw(pat1, pat2, dist=distance.euclidean)\n",
    "#             dtw_matrix[i,j] = d\n",
    "\n",
    "#     fin = time.time()\n",
    "#     time_dtw_dep.append(fin-inicio)"
   ]
  },
  {
   "cell_type": "markdown",
   "metadata": {},
   "source": [
    "# 5. pydtw. Does not work for windows. I can't install it even though it fulfills dependencies.\n"
   ]
  },
  {
   "cell_type": "markdown",
   "metadata": {},
   "source": [
    "# 6. soft-dtw. DTW dependent. There is no possibility to calculate independent DTW. I can't install it even though it fulfills dependencies.\n"
   ]
  },
  {
   "cell_type": "markdown",
   "metadata": {},
   "source": [
    "# 7. dtaidistance. DTW independiente\n"
   ]
  },
  {
   "cell_type": "code",
   "execution_count": null,
   "metadata": {},
   "outputs": [],
   "source": [
    "# x = np.load('./X_data_2.npy', allow_pickle=True)\n",
    "\n",
    "# print(x.shape)\n",
    "\n",
    "# time_fastdtw_indep = []\n",
    "\n",
    "# for rep in range(number_of_repetitions):\n",
    "\n",
    "#     inicio = time.time()\n",
    "\n",
    "#     dtw_matrix_indep = np.zeros((len(x), len(x)))\n",
    "#     for i in range(len(x)):\n",
    "#         for j in range(len(x)):\n",
    "#             pat1 = x[i]\n",
    "#             pat2 = x[j]\n",
    "#             dtw_i = 0\n",
    "#             for dim in range(pat1.shape[1]): \n",
    "#                 dtw_i += dtw.distance(pat1[:, dim], pat2[:,dim])\n",
    "#             dtw_matrix_indep[i,j] = dtw_i\n",
    "\n",
    "#     fin = time.time()\n",
    "#     time_fastdtw_indep.append(fin-inicio)"
   ]
  },
  {
   "cell_type": "code",
   "execution_count": null,
   "metadata": {},
   "outputs": [],
   "source": []
  },
  {
   "cell_type": "code",
   "execution_count": null,
   "metadata": {},
   "outputs": [],
   "source": []
  },
  {
   "cell_type": "code",
   "execution_count": null,
   "metadata": {},
   "outputs": [],
   "source": []
  }
 ],
 "metadata": {
  "kernelspec": {
   "display_name": "Python 3 (ipykernel)",
   "language": "python",
   "name": "python3"
  },
  "language_info": {
   "codemirror_mode": {
    "name": "ipython",
    "version": 3
   },
   "file_extension": ".py",
   "mimetype": "text/x-python",
   "name": "python",
   "nbconvert_exporter": "python",
   "pygments_lexer": "ipython3",
   "version": "3.8.10"
  }
 },
 "nbformat": 4,
 "nbformat_minor": 4
}
