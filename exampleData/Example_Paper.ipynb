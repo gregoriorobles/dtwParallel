{
 "cells": [
  {
   "cell_type": "code",
   "execution_count": null,
   "id": "7fc58847",
   "metadata": {},
   "outputs": [],
   "source": [
    "from dtwParallel import dtw_functions as dtw\n",
    "\n",
    "x = [2, 4, 6, 8, 5, 3, 6, 8, 9, 15]\n",
    "y = [12, 0, 0, 3, 5, 6, 30, 1, 2, 4]\n",
    "\n",
    "\n",
    "dtw.dtw(x,y, get_visualization=True)"
   ]
  },
  {
   "cell_type": "code",
   "execution_count": null,
   "id": "a96f0f2e",
   "metadata": {},
   "outputs": [],
   "source": [
    "# Execution via API\n",
    "from dtwParallel import dtw_functions as dtw\n",
    "import numpy as np\n",
    "from scipy.spatial import distance\n",
    "\n",
    "# Define object\n",
    "class Input:\n",
    "    def __init__(self):\n",
    "        self.check_errors = False \n",
    "        self.type_dtw = \"d\"\n",
    "        self.MTS = True\n",
    "        self.n_threads = -1\n",
    "        self.distance = distance.euclidean\n",
    "        self.visualization = False\n",
    "        self.output_file = True\n",
    "        self.DTW_to_kernel = False\n",
    "        self.sigma = 1\n",
    "\n",
    "# Load data\n",
    "x = np.load('./X_data_2.npy', allow_pickle=True)\n",
    "y = x.copy()\n",
    "\n",
    "input_obj = Input()\n",
    "# API call. \n",
    "dtw.dtw_tensor_3d(x, y, input_obj)\n",
    "\n",
    "# Execution via terminal\n",
    "dtwParallel X_data_2.npy –of True"
   ]
  },
  {
   "cell_type": "code",
   "execution_count": null,
   "id": "3dbc3230",
   "metadata": {},
   "outputs": [],
   "source": []
  }
 ],
 "metadata": {
  "kernelspec": {
   "display_name": "Python 3 (ipykernel)",
   "language": "python",
   "name": "python3"
  },
  "language_info": {
   "codemirror_mode": {
    "name": "ipython",
    "version": 3
   },
   "file_extension": ".py",
   "mimetype": "text/x-python",
   "name": "python",
   "nbconvert_exporter": "python",
   "pygments_lexer": "ipython3",
   "version": "3.8.10"
  }
 },
 "nbformat": 4,
 "nbformat_minor": 5
}
