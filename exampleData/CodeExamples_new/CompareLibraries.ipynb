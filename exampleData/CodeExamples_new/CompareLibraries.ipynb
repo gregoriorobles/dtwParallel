{
 "cells": [
  {
   "cell_type": "code",
   "execution_count": 1,
   "id": "cc676279",
   "metadata": {},
   "outputs": [],
   "source": [
    "import pandas as pd\n",
    "import numpy as np\n",
    "from scipy.spatial import distance as d"
   ]
  },
  {
   "cell_type": "code",
   "execution_count": 2,
   "id": "8a90646b",
   "metadata": {},
   "outputs": [],
   "source": [
    "# x = pd.Series(np.random.randn(10)).T\n",
    "# y = pd.Series(np.random.randn(10)).T\n",
    "\n",
    "x = [1, 4, 6]\n",
    "y = [0, 2, 1, 0]"
   ]
  },
  {
   "cell_type": "code",
   "execution_count": 9,
   "id": "d19a9d31",
   "metadata": {},
   "outputs": [
    {
     "data": {
      "text/plain": [
       "47.0"
      ]
     },
     "execution_count": 9,
     "metadata": {},
     "output_type": "execute_result"
    }
   ],
   "source": [
    "from dtwParallel import dtw_functions \n",
    "\n",
    "dtw_functions.dtw(x, y, local_dissimilarity=\"square_euclidean_distance\")"
   ]
  },
  {
   "cell_type": "code",
   "execution_count": 4,
   "id": "b7a8ecc8",
   "metadata": {},
   "outputs": [
    {
     "data": {
      "text/plain": [
       "11.0"
      ]
     },
     "execution_count": 4,
     "metadata": {},
     "output_type": "execute_result"
    }
   ],
   "source": [
    "from fastdtw import fastdtw\n",
    "\n",
    "d, _ = fastdtw(x, y, dist=d.euclidean)\n",
    "d"
   ]
  },
  {
   "cell_type": "code",
   "execution_count": 5,
   "id": "8bec1451",
   "metadata": {},
   "outputs": [
    {
     "name": "stderr",
     "output_type": "stream",
     "text": [
      "Warning: loading library to link with numpy returned an error\n",
      "numpy.ndarray size changed, may indicate binary incompatibility. Expected 96 from C header, got 88 from PyObject\n"
     ]
    },
    {
     "data": {
      "text/plain": [
       "6.855654600401044"
      ]
     },
     "execution_count": 5,
     "metadata": {},
     "output_type": "execute_result"
    }
   ],
   "source": [
    "from dtaidistance import dtw_ndim\n",
    "\n",
    "dtw_ndim.distance(x, y)"
   ]
  },
  {
   "cell_type": "code",
   "execution_count": 6,
   "id": "25e5b562",
   "metadata": {},
   "outputs": [
    {
     "data": {
      "text/plain": [
       "6.855654600401044"
      ]
     },
     "execution_count": 6,
     "metadata": {},
     "output_type": "execute_result"
    }
   ],
   "source": [
    "from tslearn.metrics import dtw\n",
    "\n",
    "dtw(x, y)"
   ]
  },
  {
   "cell_type": "code",
   "execution_count": 7,
   "id": "fa1bf414",
   "metadata": {},
   "outputs": [
    {
     "data": {
      "text/plain": [
       "6.855654600401044"
      ]
     },
     "execution_count": 7,
     "metadata": {},
     "output_type": "execute_result"
    }
   ],
   "source": [
    "from pyts.metrics import dtw\n",
    "\n",
    "dtw(x, y)"
   ]
  },
  {
   "cell_type": "code",
   "execution_count": null,
   "id": "9877047e",
   "metadata": {},
   "outputs": [],
   "source": []
  },
  {
   "cell_type": "markdown",
   "id": "0ae9ab9a",
   "metadata": {},
   "source": [
    "## Compare time with differents number of MTS"
   ]
  },
  {
   "cell_type": "markdown",
   "id": "48fc2f77",
   "metadata": {},
   "source": [
    "### Code to generate synthetic data.  "
   ]
  },
  {
   "cell_type": "code",
   "execution_count": 37,
   "id": "50d65e6c",
   "metadata": {},
   "outputs": [
    {
     "name": "stdout",
     "output_type": "stream",
     "text": [
      "(50, 20, 6)\n",
      "(100, 20, 6)\n",
      "(250, 20, 6)\n",
      "(500, 20, 6)\n",
      "(1000, 20, 6)\n",
      "(2000, 20, 6)\n"
     ]
    }
   ],
   "source": [
    "import numpy as np\n",
    "\n",
    "\n",
    "number_of_MTS = [49, 99, 249, 499, 999, 1999]\n",
    "\n",
    "for n in range(len(number_of_MTS)):\n",
    "    X = np.random.randint(0, 100, size = (20,6))\n",
    "    X = X.reshape(1, 20, 6)\n",
    "\n",
    "    for i in range(number_of_MTS[n]):\n",
    "        X_aux = np.random.randint(0, 50, size = (20,6))\n",
    "        X_aux = X_aux.reshape(1, 20, 6)\n",
    "        X = np.append(X, X_aux, axis=0)\n",
    "\n",
    "    \n",
    "    np.save(\n",
    "       \"./Results_with_differents_Number_of_MTS/SyntheticData/dataWith\"+str(number_of_MTS[n]+1)+\"MTS.npy\", X\n",
    "    )\n",
    "    print(X.shape)"
   ]
  },
  {
   "cell_type": "markdown",
   "id": "80461c95",
   "metadata": {},
   "source": [
    "### Experiments"
   ]
  },
  {
   "cell_type": "code",
   "execution_count": null,
   "id": "4584db89",
   "metadata": {},
   "outputs": [
    {
     "name": "stdout",
     "output_type": "stream",
     "text": [
      "(1000, 20, 6)\n",
      "(1000, 20, 6)\n"
     ]
    }
   ],
   "source": [
    "import time\n",
    "from dtwParallel import dtw_functions\n",
    "import numpy as np\n",
    "from scipy.spatial import distance as d\n",
    "\n",
    "class Input:\n",
    "    def __init__(self):\n",
    "        self.check_errors = False \n",
    "        self.type_dtw = \"d\"\n",
    "        self.MTS = True\n",
    "        self.regular_flag = 0\n",
    "        self.n_threads = -1\n",
    "        self.local_dissimilarity = \"norm2\"\n",
    "        self.visualization = False\n",
    "        self.output_file = False\n",
    "        self.DTW_to_kernel = False\n",
    "        self.sigma = 1\n",
    "        self.itakura_max_slope = None\n",
    "        self.sakoe_chiba_radius = None\n",
    "        \n",
    "        \n",
    "#test = [50, 100, 250, 500, 1000, 2000]\n",
    "test = [1000, 2000]\n",
    "\n",
    "#n_threads = [4, 8, 16, 32, 64, 128]\n",
    "n_threads = [8, 16, 32, 64, 128]\n",
    "\n",
    "for t in range(len(test)):\n",
    "    \n",
    "    x = np.load('./Results_with_differents_Number_of_MTS/SyntheticData/dataWith'+str(test[t])+'MTS.npy', allow_pickle=True)\n",
    "\n",
    "    y = x.copy()\n",
    "\n",
    "    print(x.shape)\n",
    "    print(y.shape)\n",
    "    \n",
    "    for n in range(len(n_threads)):\n",
    "\n",
    "        times_1 = []\n",
    "        \n",
    "        for j in range(30):\n",
    "            input_obj = Input()\n",
    "            input_obj.n_threads =  n_threads[n]\n",
    "\n",
    "            inicio = time.time()\n",
    "\n",
    "            _ = dtw_functions.dtw_tensor_3d(x, y, input_obj)\n",
    "\n",
    "            fin = time.time()\n",
    "\n",
    "            times_1.append(fin-inicio)\n",
    "\n",
    "\n",
    "        f = open(\"./Results_with_differents_Number_of_MTS/dtwParallel_\"+str(test[t])+\"MTS_norm2_\"+str(n_threads[n])+\"threads.txt\", \"a\")\n",
    "        f.write(str(times_1))\n",
    "        f.close()"
   ]
  },
  {
   "cell_type": "code",
   "execution_count": null,
   "id": "5e383f66",
   "metadata": {},
   "outputs": [
    {
     "name": "stdout",
     "output_type": "stream",
     "text": [
      "(50, 20, 6)\n",
      "(50, 20, 6)\n",
      "(100, 20, 6)\n",
      "(100, 20, 6)\n",
      "(250, 20, 6)\n",
      "(250, 20, 6)\n"
     ]
    }
   ],
   "source": [
    "import time\n",
    "from dtwParallel import dtw_functions\n",
    "import numpy as np\n",
    "from scipy.spatial import distance as d\n",
    "\n",
    "class Input:\n",
    "    def __init__(self):\n",
    "        self.check_errors = False \n",
    "        self.type_dtw = \"d\"\n",
    "        self.MTS = True\n",
    "        self.regular_flag = 0\n",
    "        self.n_threads = -1\n",
    "        self.local_dissimilarity = d.euclidean\n",
    "        self.visualization = False\n",
    "        self.output_file = False\n",
    "        self.DTW_to_kernel = False\n",
    "        self.sigma = 1\n",
    "        self.itakura_max_slope = None\n",
    "        self.sakoe_chiba_radius = None\n",
    "        \n",
    "        \n",
    "test = [50, 100, 250, 500, 1000, 2000]\n",
    "\n",
    "n_threads = [8, 16, 32, 64, 128]\n",
    "\n",
    "for t in range(len(test)):\n",
    "    \n",
    "    x = np.load('./Results_with_differents_Number_of_MTS/SyntheticData/dataWith'+str(test[t])+'MTS.npy', allow_pickle=True)\n",
    "\n",
    "    y = x.copy()\n",
    "\n",
    "    print(x.shape)\n",
    "    print(y.shape)\n",
    "    \n",
    "    for n in range(len(n_threads)):\n",
    "\n",
    "        times_1 = []\n",
    "        \n",
    "        for j in range(30):\n",
    "            input_obj = Input()\n",
    "            input_obj.n_threads =  n_threads[n]\n",
    "\n",
    "            inicio = time.time()\n",
    "\n",
    "            _ = dtw_functions.dtw_tensor_3d(x, y, input_obj)\n",
    "\n",
    "            fin = time.time()\n",
    "\n",
    "            times_1.append(fin-inicio)\n",
    "\n",
    "\n",
    "        f = open(\"./Results_with_differents_Number_of_MTS/dtwParallel_\"+str(test[t])+\"MTS_euclideanfunction_\"+str(n_threads[n])+\"threads.txt\", \"a\")\n",
    "        f.write(str(times_1))\n",
    "        f.close()"
   ]
  },
  {
   "cell_type": "code",
   "execution_count": null,
   "id": "5e38f3d3",
   "metadata": {},
   "outputs": [],
   "source": [
    "import time\n",
    "from dtwParallel import dtw_functions\n",
    "import numpy as np\n",
    "from scipy.spatial import distance as d\n",
    "\n",
    "class Input:\n",
    "    def __init__(self):\n",
    "        self.check_errors = False \n",
    "        self.type_dtw = \"d\"\n",
    "        self.MTS = True\n",
    "        self.regular_flag = 0\n",
    "        self.n_threads = -1\n",
    "        self.local_dissimilarity = \"norm1\"\n",
    "        self.visualization = False\n",
    "        self.output_file = False\n",
    "        self.DTW_to_kernel = False\n",
    "        self.sigma = 1\n",
    "        self.itakura_max_slope = None\n",
    "        self.sakoe_chiba_radius = None\n",
    "        \n",
    "        \n",
    "test = [50, 100, 250, 500, 1000, 2000]\n",
    "\n",
    "n_threads = [8, 16, 32, 64, 128]\n",
    "\n",
    "for t in range(len(test)):\n",
    "    \n",
    "    x = np.load('./Results_with_differents_Number_of_MTS/SyntheticData/dataWith'+str(test[t])+'MTS.npy', allow_pickle=True)\n",
    "\n",
    "    y = x.copy()\n",
    "\n",
    "    print(x.shape)\n",
    "    print(y.shape)\n",
    "    \n",
    "    for n in range(len(n_threads)):\n",
    "\n",
    "        times_1 = []\n",
    "        \n",
    "        for j in range(30):\n",
    "            input_obj = Input()\n",
    "            input_obj.n_threads =  n_threads[n]\n",
    "\n",
    "            inicio = time.time()\n",
    "\n",
    "            _ = dtw_functions.dtw_tensor_3d(x, y, input_obj)\n",
    "\n",
    "            fin = time.time()\n",
    "\n",
    "            times_1.append(fin-inicio)\n",
    "\n",
    "\n",
    "        f = open(\"./Results_with_differents_Number_of_MTS/dtwParallel_\"+str(test[t])+\"MTS_norm1_\"+str(n_threads[n])+\"threads.txt\", \"a\")\n",
    "        f.write(str(times_1))\n",
    "        f.close()"
   ]
  },
  {
   "cell_type": "code",
   "execution_count": null,
   "id": "d6c83868",
   "metadata": {},
   "outputs": [],
   "source": []
  },
  {
   "cell_type": "code",
   "execution_count": null,
   "id": "a2c28e2c",
   "metadata": {},
   "outputs": [],
   "source": []
  },
  {
   "cell_type": "code",
   "execution_count": null,
   "id": "2a229b41",
   "metadata": {},
   "outputs": [],
   "source": []
  },
  {
   "cell_type": "code",
   "execution_count": 4,
   "id": "a16d943c",
   "metadata": {},
   "outputs": [
    {
     "data": {
      "text/plain": [
       "[1.3662996768951416, 3.2504259824752806, 9.634835028648377, 33.39374112288157]"
      ]
     },
     "execution_count": 4,
     "metadata": {},
     "output_type": "execute_result"
    }
   ],
   "source": [
    "test = [63, 126, 252, 505]\n",
    "\n",
    "dtwParallel_euclidean = []\n",
    "for t in range(len(test)):\n",
    "    data = np.loadtxt('./Results_with_differents_Number_of_MTS/dtwParallel_'+str(test[t])+'MTS_norm2.txt', dtype=str)\n",
    "    a = [word.rstrip(\",[]\") for word in data]\n",
    "    a[0] = a[0][1:]\n",
    "    a = [float(i) for i in a]\n",
    "    dtwParallel_euclidean.append(np.mean(a))\n",
    "    \n",
    "dtwParallel_euclidean"
   ]
  },
  {
   "cell_type": "code",
   "execution_count": 6,
   "id": "9946480b",
   "metadata": {},
   "outputs": [
    {
     "data": {
      "text/plain": [
       "[0.5146326700846354, 1.0462375243504842, 3.057909345626831, 11.838126722971598]"
      ]
     },
     "execution_count": 6,
     "metadata": {},
     "output_type": "execute_result"
    }
   ],
   "source": [
    "test = [63, 126, 252, 505]\n",
    "\n",
    "dtwParallel_euclidean = []\n",
    "for t in range(len(test)):\n",
    "    data = np.loadtxt('./Results_with_differents_Number_of_MTS/dtwParallel_'+str(test[t])+'MTS_norm2_32threads.txt', dtype=str)\n",
    "    a = [word.rstrip(\",[]\") for word in data]\n",
    "    a[0] = a[0][1:]\n",
    "    a = [float(i) for i in a]\n",
    "    dtwParallel_euclidean.append(np.mean(a))\n",
    "    \n",
    "dtwParallel_euclidean"
   ]
  },
  {
   "cell_type": "code",
   "execution_count": 8,
   "id": "5ca9bdc9",
   "metadata": {},
   "outputs": [
    {
     "data": {
      "text/plain": [
       "[0.3919876495997111,\n",
       " 0.8019439379374186,\n",
       " 2.6893542369206744,\n",
       " 10.382936763763428]"
      ]
     },
     "execution_count": 8,
     "metadata": {},
     "output_type": "execute_result"
    }
   ],
   "source": [
    "test = [63, 126, 252, 505]\n",
    "\n",
    "dtwParallel_euclidean = []\n",
    "for t in range(len(test)):\n",
    "    data = np.loadtxt('./Results_with_differents_Number_of_MTS/dtwParallel_'+str(test[t])+'MTS_norm2_16threads.txt', dtype=str)\n",
    "    a = [word.rstrip(\",[]\") for word in data]\n",
    "    a[0] = a[0][1:]\n",
    "    a = [float(i) for i in a]\n",
    "    dtwParallel_euclidean.append(np.mean(a))\n",
    "    \n",
    "dtwParallel_euclidean"
   ]
  },
  {
   "cell_type": "code",
   "execution_count": null,
   "id": "58566284",
   "metadata": {},
   "outputs": [],
   "source": [
    "test = [63, 126, 252, 505]\n",
    "\n",
    "dtwParallel_euclidean = []\n",
    "for t in range(len(test)):\n",
    "    data = np.loadtxt('./Results_with_differents_Number_of_MTS/dtwParallel_'+str(test[t])+'MTS_norm2_8threads.txt', dtype=str)\n",
    "    a = [word.rstrip(\",[]\") for word in data]\n",
    "    a[0] = a[0][1:]\n",
    "    a = [float(i) for i in a]\n",
    "    dtwParallel_euclidean.append(np.mean(a))\n",
    "    \n",
    "dtwParallel_euclidean"
   ]
  },
  {
   "cell_type": "code",
   "execution_count": 2,
   "id": "2e906297",
   "metadata": {},
   "outputs": [
    {
     "data": {
      "text/plain": [
       "[1.1486069202423095, 2.537164640426636, 7.106892069180806, 23.43506510257721]"
      ]
     },
     "execution_count": 2,
     "metadata": {},
     "output_type": "execute_result"
    }
   ],
   "source": [
    "test = [63, 126, 252, 505]\n",
    "\n",
    "dtwParallel_euclidean = []\n",
    "for t in range(len(test)):\n",
    "    data = np.loadtxt('./Results_with_differents_Number_of_MTS/dtwParallel_'+str(test[t])+'MTS_euclideanfunction.txt', dtype=str)\n",
    "    a = [word.rstrip(\",[]\") for word in data]\n",
    "    a[0] = a[0][1:]\n",
    "    a = [float(i) for i in a]\n",
    "    dtwParallel_euclidean.append(np.mean(a))\n",
    "    \n",
    "dtwParallel_euclidean"
   ]
  },
  {
   "cell_type": "code",
   "execution_count": null,
   "id": "367bc032",
   "metadata": {},
   "outputs": [],
   "source": []
  }
 ],
 "metadata": {
  "kernelspec": {
   "display_name": "Python 3 (ipykernel)",
   "language": "python",
   "name": "python3"
  },
  "language_info": {
   "codemirror_mode": {
    "name": "ipython",
    "version": 3
   },
   "file_extension": ".py",
   "mimetype": "text/x-python",
   "name": "python",
   "nbconvert_exporter": "python",
   "pygments_lexer": "ipython3",
   "version": "3.9.12"
  }
 },
 "nbformat": 4,
 "nbformat_minor": 5
}
